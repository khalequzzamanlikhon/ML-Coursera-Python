{
 "cells": [
  {
   "cell_type": "markdown",
   "id": "025594de",
   "metadata": {},
   "source": [
    "# Linear Regression with One Variable\n",
    "\n",
    "Here we will implement linear regression with one variable to predict profits for a food truck. Suppose you are the CEO of a restaurant franchise and are considering different cities for opening a new outlet. The chain already has trucks in various cities and you have data for profits and populations from the cities.\n",
    "\n",
    "The file ex1data1.txt (available under week 2's assignment material) contains the dataset for our linear regression exercise. The first column is the population of a city and the second column is the profit of a food truck in that city. A negative value for profit indicates a loss."
   ]
  },
  {
   "cell_type": "code",
   "execution_count": 155,
   "id": "b24aafbb",
   "metadata": {},
   "outputs": [],
   "source": [
    "import numpy as np\n",
    "import pandas as pd\n",
    "import matplotlib.pyplot as plt"
   ]
  },
  {
   "cell_type": "code",
   "execution_count": 156,
   "id": "bcd72fe5",
   "metadata": {},
   "outputs": [
    {
     "data": {
      "text/html": [
       "<div>\n",
       "<style scoped>\n",
       "    .dataframe tbody tr th:only-of-type {\n",
       "        vertical-align: middle;\n",
       "    }\n",
       "\n",
       "    .dataframe tbody tr th {\n",
       "        vertical-align: top;\n",
       "    }\n",
       "\n",
       "    .dataframe thead th {\n",
       "        text-align: right;\n",
       "    }\n",
       "</style>\n",
       "<table border=\"1\" class=\"dataframe\">\n",
       "  <thead>\n",
       "    <tr style=\"text-align: right;\">\n",
       "      <th></th>\n",
       "      <th>0</th>\n",
       "      <th>1</th>\n",
       "    </tr>\n",
       "  </thead>\n",
       "  <tbody>\n",
       "    <tr>\n",
       "      <th>0</th>\n",
       "      <td>6.1101</td>\n",
       "      <td>17.5920</td>\n",
       "    </tr>\n",
       "    <tr>\n",
       "      <th>1</th>\n",
       "      <td>5.5277</td>\n",
       "      <td>9.1302</td>\n",
       "    </tr>\n",
       "    <tr>\n",
       "      <th>2</th>\n",
       "      <td>8.5186</td>\n",
       "      <td>13.6620</td>\n",
       "    </tr>\n",
       "    <tr>\n",
       "      <th>3</th>\n",
       "      <td>7.0032</td>\n",
       "      <td>11.8540</td>\n",
       "    </tr>\n",
       "    <tr>\n",
       "      <th>4</th>\n",
       "      <td>5.8598</td>\n",
       "      <td>6.8233</td>\n",
       "    </tr>\n",
       "  </tbody>\n",
       "</table>\n",
       "</div>"
      ],
      "text/plain": [
       "        0        1\n",
       "0  6.1101  17.5920\n",
       "1  5.5277   9.1302\n",
       "2  8.5186  13.6620\n",
       "3  7.0032  11.8540\n",
       "4  5.8598   6.8233"
      ]
     },
     "execution_count": 156,
     "metadata": {},
     "output_type": "execute_result"
    }
   ],
   "source": [
    "data = pd.read_csv('ex1data1.txt', header = None) #read from dataset\n",
    "X = data.iloc[:,0] # read first column\n",
    "y = data.iloc[:,1] # read second column\n",
    "m = len(y) # number of training example\n",
    "data.head() # view first few rows of the data"
   ]
  },
  {
   "cell_type": "code",
   "execution_count": 157,
   "id": "a3e327df",
   "metadata": {},
   "outputs": [
    {
     "data": {
      "image/png": "[encoded data removed]",
      "text/plain": [
       "<Figure size 640x480 with 1 Axes>"
      ]
     },
     "metadata": {},
     "output_type": "display_data"
    }
   ],
   "source": [
    "plt.scatter(X, y)\n",
    "#plt.xlabel(\"Population of the City in 10,000\")\n",
    "#plt.ylabel(\"Profit in $10,000s\")\n",
    "plt.show()"
   ]
  },
  {
   "cell_type": "markdown",
   "id": "f8d7b8c7",
   "metadata": {},
   "source": [
    "# Adding the intercept term"
   ]
  },
  {
   "cell_type": "code",
   "execution_count": 158,
   "id": "48dabb17",
   "metadata": {},
   "outputs": [
    {
     "name": "stderr",
     "output_type": "stream",
     "text": [
      "C:\\Users\\klikh\\AppData\\Local\\Temp\\ipykernel_11792\\351318876.py:1: FutureWarning: Support for multi-dimensional indexing (e.g. `obj[:, None]`) is deprecated and will be removed in a future version.  Convert to a numpy array before indexing instead.\n",
      "  X = X[:,np.newaxis]\n",
      "C:\\Users\\klikh\\AppData\\Local\\Temp\\ipykernel_11792\\351318876.py:2: FutureWarning: Support for multi-dimensional indexing (e.g. `obj[:, None]`) is deprecated and will be removed in a future version.  Convert to a numpy array before indexing instead.\n",
      "  y = y[:,np.newaxis]\n"
     ]
    }
   ],
   "source": [
    "X = X[:,np.newaxis]\n",
    "y = y[:,np.newaxis]\n",
    "theta = np.zeros([2,1])\n",
    "iterations = 1500\n",
    "alpha = 0.01\n",
    "ones = np.ones((m,1))\n",
    "X = np.hstack((ones, X)) # adding the intercept term"
   ]
  },
  {
   "cell_type": "code",
   "execution_count": 159,
   "id": "02fc1ba1",
   "metadata": {},
   "outputs": [
    {
     "data": {
      "text/html": [
       "<div>\n",
       "<style scoped>\n",
       "    .dataframe tbody tr th:only-of-type {\n",
       "        vertical-align: middle;\n",
       "    }\n",
       "\n",
       "    .dataframe tbody tr th {\n",
       "        vertical-align: top;\n",
       "    }\n",
       "\n",
       "    .dataframe thead th {\n",
       "        text-align: right;\n",
       "    }\n",
       "</style>\n",
       "<table border=\"1\" class=\"dataframe\">\n",
       "  <thead>\n",
       "    <tr style=\"text-align: right;\">\n",
       "      <th></th>\n",
       "      <th>0</th>\n",
       "      <th>1</th>\n",
       "    </tr>\n",
       "  </thead>\n",
       "  <tbody>\n",
       "    <tr>\n",
       "      <th>0</th>\n",
       "      <td>6.1101</td>\n",
       "      <td>17.5920</td>\n",
       "    </tr>\n",
       "    <tr>\n",
       "      <th>1</th>\n",
       "      <td>5.5277</td>\n",
       "      <td>9.1302</td>\n",
       "    </tr>\n",
       "    <tr>\n",
       "      <th>2</th>\n",
       "      <td>8.5186</td>\n",
       "      <td>13.6620</td>\n",
       "    </tr>\n",
       "    <tr>\n",
       "      <th>3</th>\n",
       "      <td>7.0032</td>\n",
       "      <td>11.8540</td>\n",
       "    </tr>\n",
       "    <tr>\n",
       "      <th>4</th>\n",
       "      <td>5.8598</td>\n",
       "      <td>6.8233</td>\n",
       "    </tr>\n",
       "  </tbody>\n",
       "</table>\n",
       "</div>"
      ],
      "text/plain": [
       "        0        1\n",
       "0  6.1101  17.5920\n",
       "1  5.5277   9.1302\n",
       "2  8.5186  13.6620\n",
       "3  7.0032  11.8540\n",
       "4  5.8598   6.8233"
      ]
     },
     "execution_count": 159,
     "metadata": {},
     "output_type": "execute_result"
    }
   ],
   "source": [
    "data.head()"
   ]
  },
  {
   "cell_type": "markdown",
   "id": "8ac4a8fd",
   "metadata": {},
   "source": [
    "# Computing the cost"
   ]
  },
  {
   "cell_type": "code",
   "execution_count": 160,
   "id": "8902e6f8",
   "metadata": {},
   "outputs": [],
   "source": [
    "#computing cost\n",
    "def computeCost(X,y,theta):\n",
    "    y_pred=np.dot(X,theta)\n",
    "    mse=(y_pred-y)**2\n",
    "    return (1/(2*m)) * np.sum(mse)\n"
   ]
  },
  {
   "cell_type": "code",
   "execution_count": 161,
   "id": "88207a59",
   "metadata": {},
   "outputs": [
    {
     "name": "stdout",
     "output_type": "stream",
     "text": [
      "32.072733877455676\n"
     ]
    }
   ],
   "source": [
    "J=computeCost(X,y,theta)\n",
    "print(J)"
   ]
  },
  {
   "cell_type": "markdown",
   "id": "4eb44089",
   "metadata": {},
   "source": [
    "# Finding the optimal parameters using Gradient Descent"
   ]
  },
  {
   "cell_type": "code",
   "execution_count": 162,
   "id": "06062370",
   "metadata": {},
   "outputs": [
    {
     "name": "stdout",
     "output_type": "stream",
     "text": [
      "h(x) = -3.63 + 1.17X1\n"
     ]
    }
   ],
   "source": [
    "#compoute gradient descetn\n",
    "def gradientDescentUnivariate(X,y,theta,alpha,iterations):\n",
    "    m=len(y)\n",
    "    J_history=[]\n",
    "    for i in range(iterations):\n",
    "        y_pred=np.dot(X,theta)\n",
    "        error=np.dot(X.transpose(),(y_pred-y))\n",
    "        descent=alpha*1/m *error\n",
    "        theta-=descent\n",
    "        J_history.append(computeCost(X,y,theta))\n",
    "    return theta, J_history\n",
    "theta,J_history=gradientDescentUnivariate(X,y,theta,alpha,iterations)\n",
    "print(\"h(x) = \"+str(round(theta[0,0],2))+\" + \"+str(round(theta[1,0],2))+\"X1\")"
   ]
  },
  {
   "cell_type": "code",
   "execution_count": 163,
   "id": "4f3fce98",
   "metadata": {},
   "outputs": [
    {
     "name": "stdout",
     "output_type": "stream",
     "text": [
      "4.483388256587725\n"
     ]
    }
   ],
   "source": [
    "#checking the cost values with new theta values\n",
    "J=computeCost(X,y,theta)\n",
    "print(J)"
   ]
  },
  {
   "cell_type": "code",
   "execution_count": 164,
   "id": "c503241d",
   "metadata": {},
   "outputs": [
    {
     "name": "stdout",
     "output_type": "stream",
     "text": [
      "4.483388256587725\n"
     ]
    }
   ],
   "source": [
    "#we already have a vector of all the cost values throught the history\n",
    "print(J_history[-1])"
   ]
  },
  {
   "cell_type": "markdown",
   "id": "3751ad0a",
   "metadata": {},
   "source": [
    "# 3D diagram for a univariate linear regression\n",
    "the cost function is a convex function"
   ]
  },
  {
   "cell_type": "code",
   "execution_count": 165,
   "id": "14bd059f",
   "metadata": {},
   "outputs": [
    {
     "data": {
      "image/png": "[encoded data removed]",
      "text/plain": [
       "<Figure size 640x480 with 2 Axes>"
      ]
     },
     "metadata": {},
     "output_type": "display_data"
    }
   ],
   "source": [
    "#3d diagram for genrating new theta values and corresponding cost values\n",
    "from mpl_toolkits.mplot3d import Axes3D\n",
    "#Generating values for theta0, theta1 and the resulting cost value\n",
    "theta0_vals=np.linspace(-10,20,120)\n",
    "theta1_vals=np.linspace(-1,4,120)\n",
    "J_vals=np.zeros((len(theta0_vals),len(theta1_vals)))\n",
    "for i in range(len(theta0_vals)):\n",
    "    for j in range(len(theta1_vals)):\n",
    "        t=np.array([theta0_vals[i],theta1_vals[j]])\n",
    "        J_vals[i,j]=computeCost(X,y,t)\n",
    "#Generating the surface plot\n",
    "fig = plt.figure()\n",
    "ax = fig.add_subplot(111, projection='3d')\n",
    "surf=ax.plot_surface(theta0_vals,theta1_vals,J_vals,cmap=\"coolwarm\")\n",
    "fig.colorbar(surf, shrink=0.5, aspect=5)\n",
    "ax.set_xlabel(\"$\\Theta_0$\")\n",
    "ax.set_ylabel(\"$\\Theta_1$\")\n",
    "ax.set_zlabel(\"$J(\\Theta)$\")\n",
    "#rotate for better angle\n",
    "ax.view_init(30,120)"
   ]
  },
  {
   "cell_type": "markdown",
   "id": "2087524b",
   "metadata": {},
   "source": [
    "# Cost function observation w.r.t number of iteration"
   ]
  },
  {
   "cell_type": "code",
   "execution_count": 166,
   "id": "f1f049c5",
   "metadata": {},
   "outputs": [
    {
     "data": {
      "text/plain": [
       "Text(0.5, 1.0, 'cost func using  GD ')"
      ]
     },
     "execution_count": 166,
     "metadata": {},
     "output_type": "execute_result"
    },
    {
     "data": {
      "image/png": "[encoded data removed]",
      "text/plain": [
       "<Figure size 640x480 with 1 Axes>"
      ]
     },
     "metadata": {},
     "output_type": "display_data"
    }
   ],
   "source": [
    "plt.plot(J_history)\n",
    "plt.title(\"cost func using  GD \")"
   ]
  },
  {
   "cell_type": "markdown",
   "id": "8686461a",
   "metadata": {},
   "source": [
    "Plotting the cost function against the number of iterations gave a nice descending trend, indicating that the gradient descent implementation works in reducing the cost function"
   ]
  },
  {
   "cell_type": "markdown",
   "id": "40458f8f",
   "metadata": {},
   "source": [
    "# Plot showing the best fit line"
   ]
  },
  {
   "cell_type": "code",
   "execution_count": 167,
   "id": "e1f1177e",
   "metadata": {},
   "outputs": [
    {
     "data": {
      "image/png": "[encoded data removed]",
      "text/plain": [
       "<Figure size 640x480 with 1 Axes>"
      ]
     },
     "metadata": {},
     "output_type": "display_data"
    }
   ],
   "source": [
    "# plot to show the best fit line\n",
    "plt.scatter(X[:,1],y)\n",
    "plt.xlabel=(\"populaions of the city in 10000s\")\n",
    "plt.ylabel=(\"profit in $10000s\")\n",
    "plt.plot(X[:,1],np.dot(X,theta))\n",
    "plt.show()"
   ]
  },
  {
   "cell_type": "markdown",
   "id": "1ca91b93",
   "metadata": {},
   "source": [
    "# make prediction\n"
   ]
  },
  {
   "cell_type": "code",
   "execution_count": 168,
   "id": "287d249d",
   "metadata": {},
   "outputs": [
    {
     "name": "stdout",
     "output_type": "stream",
     "text": [
      "For population = 3500 we predict profit = $4519\n"
     ]
    }
   ],
   "source": [
    "#prediction funciton\n",
    "def predict(x,theta):\n",
    "    y_pred=np.dot(theta.transpose(),x)\n",
    "    return y_pred\n",
    "predict1=predict(np.array([1,3.5]),theta)*10000\n",
    "print(\"For population = {} we predict profit = ${}\".format(3500,int(predict1)))"
   ]
  },
  {
   "cell_type": "markdown",
   "id": "b0f4212b",
   "metadata": {},
   "source": [
    "# linear regression with multiple variable\n",
    "\n",
    "Problem context:\n",
    "\n",
    "Suppose you are selling your house and you want to know what a good market price would be. One way to do this is to first collect information on recent houses sold and make a model of housing prices. Your job is to predict housing prices based on other variables.\n",
    "\n",
    "The file ex1data2.txt((available under week 2’s assignment material)) contains a training set of housing prices in Portland, Oregon. The first column is the size of the house (in square feet), the second column is the number of bedrooms, and the third column is the price of the house.\n",
    "\n",
    "You already have the necessary infrastructure which we built in our previous section that can be easily applied to this section as well. Here we will just use the equations which we made in the above section.\n"
   ]
  },
  {
   "cell_type": "code",
   "execution_count": 169,
   "id": "a0ede9d7",
   "metadata": {},
   "outputs": [
    {
     "data": {
      "text/html": [
       "<div>\n",
       "<style scoped>\n",
       "    .dataframe tbody tr th:only-of-type {\n",
       "        vertical-align: middle;\n",
       "    }\n",
       "\n",
       "    .dataframe tbody tr th {\n",
       "        vertical-align: top;\n",
       "    }\n",
       "\n",
       "    .dataframe thead th {\n",
       "        text-align: right;\n",
       "    }\n",
       "</style>\n",
       "<table border=\"1\" class=\"dataframe\">\n",
       "  <thead>\n",
       "    <tr style=\"text-align: right;\">\n",
       "      <th></th>\n",
       "      <th>0</th>\n",
       "      <th>1</th>\n",
       "      <th>2</th>\n",
       "    </tr>\n",
       "  </thead>\n",
       "  <tbody>\n",
       "    <tr>\n",
       "      <th>0</th>\n",
       "      <td>2104</td>\n",
       "      <td>3</td>\n",
       "      <td>399900</td>\n",
       "    </tr>\n",
       "    <tr>\n",
       "      <th>1</th>\n",
       "      <td>1600</td>\n",
       "      <td>3</td>\n",
       "      <td>329900</td>\n",
       "    </tr>\n",
       "    <tr>\n",
       "      <th>2</th>\n",
       "      <td>2400</td>\n",
       "      <td>3</td>\n",
       "      <td>369000</td>\n",
       "    </tr>\n",
       "    <tr>\n",
       "      <th>3</th>\n",
       "      <td>1416</td>\n",
       "      <td>2</td>\n",
       "      <td>232000</td>\n",
       "    </tr>\n",
       "    <tr>\n",
       "      <th>4</th>\n",
       "      <td>3000</td>\n",
       "      <td>4</td>\n",
       "      <td>539900</td>\n",
       "    </tr>\n",
       "  </tbody>\n",
       "</table>\n",
       "</div>"
      ],
      "text/plain": [
       "      0  1       2\n",
       "0  2104  3  399900\n",
       "1  1600  3  329900\n",
       "2  2400  3  369000\n",
       "3  1416  2  232000\n",
       "4  3000  4  539900"
      ]
     },
     "execution_count": 169,
     "metadata": {},
     "output_type": "execute_result"
    }
   ],
   "source": [
    "import numpy as np\n",
    "import pandas as pd\n",
    "data = pd.read_csv('ex1data2.txt', sep = ',', header = None)\n",
    "data.head()"
   ]
  },
  {
   "cell_type": "markdown",
   "id": "52409928",
   "metadata": {},
   "source": [
    "# Ploting the data values\n"
   ]
  },
  {
   "cell_type": "code",
   "execution_count": 170,
   "id": "bc8bb3e4",
   "metadata": {},
   "outputs": [
    {
     "data": {
      "image/png": "[encoded data removed]",
      "text/plain": [
       "<Figure size 1200x400 with 2 Axes>"
      ]
     },
     "metadata": {},
     "output_type": "display_data"
    }
   ],
   "source": [
    "# Create 2 subplot, 1 for each variable\n",
    "fig, axes = plt.subplots(figsize=(12,4),nrows=1,ncols=2)\n",
    "axes[0].scatter(data[0],data[2],color=\"red\")\n",
    "axes[1].scatter(data[1],data[2],color=\"blue\")\n",
    "\n",
    "axes[0].set_xlabel(\"Size (Square Feet)\")\n",
    "axes[0].set_ylabel(\"Prices\")\n",
    "axes[0].set_title(\"House prices against size of house\")\n",
    "\n",
    "axes[1].set_xlabel(\"Number of bedroom\")\n",
    "axes[1].set_ylabel(\"Prices\")\n",
    "axes[1].set_xticks(np.arange(1,6,step=1))\n",
    "axes[1].set_title(\"House prices against number of bedroom\")\n",
    "# Enhance layout\n",
    "plt.tight_layout()"
   ]
  },
  {
   "cell_type": "code",
   "execution_count": 171,
   "id": "3062b744",
   "metadata": {},
   "outputs": [],
   "source": [
    "X = data.iloc[:,0:2] # read first two columns into X\n",
    "y = data.iloc[:,2] # read the third column into y\n",
    "m = len(y) # no. of training samples"
   ]
  },
  {
   "cell_type": "code",
   "execution_count": 172,
   "id": "f56e0b7a",
   "metadata": {},
   "outputs": [
    {
     "data": {
      "text/html": [
       "<div>\n",
       "<style scoped>\n",
       "    .dataframe tbody tr th:only-of-type {\n",
       "        vertical-align: middle;\n",
       "    }\n",
       "\n",
       "    .dataframe tbody tr th {\n",
       "        vertical-align: top;\n",
       "    }\n",
       "\n",
       "    .dataframe thead th {\n",
       "        text-align: right;\n",
       "    }\n",
       "</style>\n",
       "<table border=\"1\" class=\"dataframe\">\n",
       "  <thead>\n",
       "    <tr style=\"text-align: right;\">\n",
       "      <th></th>\n",
       "      <th>0</th>\n",
       "      <th>1</th>\n",
       "    </tr>\n",
       "  </thead>\n",
       "  <tbody>\n",
       "    <tr>\n",
       "      <th>0</th>\n",
       "      <td>2104</td>\n",
       "      <td>3</td>\n",
       "    </tr>\n",
       "    <tr>\n",
       "      <th>1</th>\n",
       "      <td>1600</td>\n",
       "      <td>3</td>\n",
       "    </tr>\n",
       "    <tr>\n",
       "      <th>2</th>\n",
       "      <td>2400</td>\n",
       "      <td>3</td>\n",
       "    </tr>\n",
       "    <tr>\n",
       "      <th>3</th>\n",
       "      <td>1416</td>\n",
       "      <td>2</td>\n",
       "    </tr>\n",
       "    <tr>\n",
       "      <th>4</th>\n",
       "      <td>3000</td>\n",
       "      <td>4</td>\n",
       "    </tr>\n",
       "  </tbody>\n",
       "</table>\n",
       "</div>"
      ],
      "text/plain": [
       "      0  1\n",
       "0  2104  3\n",
       "1  1600  3\n",
       "2  2400  3\n",
       "3  1416  2\n",
       "4  3000  4"
      ]
     },
     "execution_count": 172,
     "metadata": {},
     "output_type": "execute_result"
    }
   ],
   "source": [
    "X.head()"
   ]
  },
  {
   "cell_type": "markdown",
   "id": "5372808d",
   "metadata": {},
   "source": [
    "# Feature Normalization\n",
    "\n",
    "By looking at the values, note that house sizes are about 1000 times the number of bedrooms. When features differ by orders of magnitude, first performing feature scaling can make gradient descent converge much more quickly.\n",
    "\n",
    "Our task here is to:\n",
    "\n",
    "Subtract the mean value of each feature from the dataset.\n",
    "After subtracting the mean, additionally scale (divide) the feature values by their respective “standard deviations.”"
   ]
  },
  {
   "cell_type": "code",
   "execution_count": 173,
   "id": "cff55109",
   "metadata": {},
   "outputs": [],
   "source": [
    "#feature normalisation function\n",
    "def featureNorm(X):\n",
    "    return (X-np.mean(X))/np.std(X)"
   ]
  },
  {
   "cell_type": "code",
   "execution_count": 174,
   "id": "4c6961fe",
   "metadata": {},
   "outputs": [
    {
     "name": "stderr",
     "output_type": "stream",
     "text": [
      "C:\\Users\\klikh\\anaconda3\\lib\\site-packages\\numpy\\core\\fromnumeric.py:3430: FutureWarning: In a future version, DataFrame.mean(axis=None) will return a scalar mean over the entire DataFrame. To retain the old behavior, use 'frame.mean(axis=0)' or just 'frame.mean()'\n",
      "  return mean(axis=axis, dtype=dtype, out=out, **kwargs)\n"
     ]
    }
   ],
   "source": [
    "X=featureNorm(X)"
   ]
  },
  {
   "cell_type": "markdown",
   "id": "87c0113a",
   "metadata": {},
   "source": [
    "# adding the intercept term\n"
   ]
  },
  {
   "cell_type": "code",
   "execution_count": 175,
   "id": "25ded5fc",
   "metadata": {},
   "outputs": [
    {
     "name": "stderr",
     "output_type": "stream",
     "text": [
      "C:\\Users\\klikh\\AppData\\Local\\Temp\\ipykernel_11792\\3461389228.py:6: FutureWarning: Support for multi-dimensional indexing (e.g. `obj[:, None]`) is deprecated and will be removed in a future version.  Convert to a numpy array before indexing instead.\n",
      "  y = y[:,np.newaxis]\n"
     ]
    }
   ],
   "source": [
    "ones = np.ones((m,1))\n",
    "X = np.hstack((ones, X))\n",
    "alpha = 0.1\n",
    "iterations = 200\n",
    "theta = np.zeros((3,1))\n",
    "y = y[:,np.newaxis]"
   ]
  },
  {
   "cell_type": "code",
   "execution_count": 176,
   "id": "547594e6",
   "metadata": {},
   "outputs": [
    {
     "name": "stdout",
     "output_type": "stream",
     "text": [
      " Cost =  65591548106.45744\n"
     ]
    }
   ],
   "source": [
    "#computing cost\n",
    "def computeCostMultiVariate(X,y,theta):\n",
    "    y_pred=np.dot(X,theta)\n",
    "    mse=(y_pred-y)**2\n",
    "    return (1/(2*m)) * np.sum(mse)\n",
    "J=computeCostMultiVariate(X,y,theta)\n",
    "print(\" Cost = \",J)"
   ]
  },
  {
   "cell_type": "markdown",
   "id": "a6884faf",
   "metadata": {},
   "source": [
    "# Optimal parameter by gradient descent algorithm"
   ]
  },
  {
   "cell_type": "code",
   "execution_count": 177,
   "id": "91c1f4b6",
   "metadata": {},
   "outputs": [],
   "source": [
    "def gradientDescentMulti(X,y,theta,alpha,iterations):\n",
    "    m=len(y)\n",
    "    Jh_multi_linear=[]\n",
    "    for i in range(iterations):\n",
    "        y_pred=np.dot(X,theta)\n",
    "        error=(y_pred-y)\n",
    "        descent=np.dot(X.transpose(),error)\n",
    "        theta-=(1/m) *alpha *descent\n",
    "        Jh_multi_linear.append(computeCostMultiVariate(X,y,theta))\n",
    "        \n",
    "    return theta,Jh_multi_linear\n",
    "\n",
    "theta, Jh_multi_linear=gradientDescentMulti(X,y,theta,alpha,iterations)"
   ]
  },
  {
   "cell_type": "code",
   "execution_count": 178,
   "id": "f18d620d",
   "metadata": {},
   "outputs": [
    {
     "name": "stdout",
     "output_type": "stream",
     "text": [
      "[[340412.6593343 ]\n",
      " [109440.63822766]\n",
      " [ -6571.19661218]]\n",
      "optimum cost valu is :  2043280073.1502974\n",
      "The optimum hypothesis is : h(x) =340412.66 + 109440.64x1-6571.2x2\n"
     ]
    }
   ],
   "source": [
    "print(theta)\n",
    "print(\"optimum cost valu is : \",Jh_multi_linear[-1])  #prints the last cost value\n",
    "print(\"The optimum hypothesis is : h(x) =\" + str(round(theta[0,0],2))+\" + \"+str(round(theta[1,0],2)) + \"x1\"+str(round(theta[2,0],2))+\"x2\")"
   ]
  },
  {
   "cell_type": "markdown",
   "id": "3fcf7f1e",
   "metadata": {},
   "source": [
    "these are the optimum theta values\n"
   ]
  },
  {
   "cell_type": "code",
   "execution_count": 179,
   "id": "cbe75bee",
   "metadata": {},
   "outputs": [
    {
     "name": "stdout",
     "output_type": "stream",
     "text": [
      "2043280073.1502974\n"
     ]
    }
   ],
   "source": [
    "#lets see the final cost over iterations\n",
    "J=computeCostMultiVariate(X,y,theta)\n",
    "print(J)"
   ]
  },
  {
   "cell_type": "markdown",
   "id": "6b28b408",
   "metadata": {},
   "source": [
    "## ploting the cost function w.r.t #iterations"
   ]
  },
  {
   "cell_type": "code",
   "execution_count": 180,
   "id": "cad500f3",
   "metadata": {},
   "outputs": [
    {
     "data": {
      "text/plain": [
       "Text(0.5, 1.0, 'Cost funtion optimization curve using graient descent')"
      ]
     },
     "execution_count": 180,
     "metadata": {},
     "output_type": "execute_result"
    },
    {
     "data": {
      "image/png": "[encoded data removed]",
      "text/plain": [
       "<Figure size 640x480 with 1 Axes>"
      ]
     },
     "metadata": {},
     "output_type": "display_data"
    }
   ],
   "source": [
    "#plot the cost function vs iterations grap\n",
    "plt.plot(Jh_multi_linear)\n",
    "#plt.xlabel(\"iterations\")\n",
    "#plt.ylabel(\"$J(\\Theta)$\")\n",
    "plt.title(\"Cost funtion optimization curve using graient descent\")"
   ]
  },
  {
   "cell_type": "code",
   "execution_count": 181,
   "id": "f03524ca",
   "metadata": {},
   "outputs": [
    {
     "name": "stdout",
     "output_type": "stream",
     "text": [
      "Cost for new house having size 1650 and 3 bedrooms:  456424.49417414423\n"
     ]
    }
   ],
   "source": [
    "#make predictions\n",
    "def predict_house_price(feature,theta):\n",
    "    y_pred=np.dot(theta.transpose(),feature)\n",
    "    return y_pred\n",
    "#feature normalisation of x values\n",
    "x_sample = featureNorm(np.array([1650,3]))\n",
    "x_sample=np.append(np.ones(1),x_sample)\n",
    "predicted_price=predict_house_price(x_sample,theta)\n",
    "print(\"Cost for new house having size 1650 and 3 bedrooms: \",predicted_price[0])\n",
    "#print(\"For size of house = 1650, Number of bedroom = 3, we predict a house value of $\"+str(round(predict3,0)))"
   ]
  },
  {
   "cell_type": "markdown",
   "id": "14847016",
   "metadata": {},
   "source": [
    "# Logistic Regression\n",
    "\n",
    "In this part of the exercise, you will build a logistic regression model to predict whether a student gets admitted into a university.\n",
    "\n",
    "### Problem context\n",
    "\n",
    "Suppose that you are the administrator of a university department and you want to determine each applicant’s chance of admission based on their results on two exams. You have historical data from previous applicants that you can use as a training set for logistic regression. For each training example, you have the applicant’s scores on two exams and the admissions decision.\n",
    "\n",
    "Your task is to build a classification model that estimates an applicant’s probability of admission based on the scores from those two exams."
   ]
  },
  {
   "cell_type": "code",
   "execution_count": 182,
   "id": "d53b926c",
   "metadata": {},
   "outputs": [],
   "source": [
    "import numpy as np\n",
    "import matplotlib.pyplot as plt\n",
    "import pandas as pd\n",
    "df=pd.read_csv(\"ex2data1.txt\",header=None)"
   ]
  },
  {
   "cell_type": "code",
   "execution_count": 183,
   "id": "8858e92a",
   "metadata": {},
   "outputs": [
    {
     "data": {
      "text/html": [
       "<div>\n",
       "<style scoped>\n",
       "    .dataframe tbody tr th:only-of-type {\n",
       "        vertical-align: middle;\n",
       "    }\n",
       "\n",
       "    .dataframe tbody tr th {\n",
       "        vertical-align: top;\n",
       "    }\n",
       "\n",
       "    .dataframe thead th {\n",
       "        text-align: right;\n",
       "    }\n",
       "</style>\n",
       "<table border=\"1\" class=\"dataframe\">\n",
       "  <thead>\n",
       "    <tr style=\"text-align: right;\">\n",
       "      <th></th>\n",
       "      <th>0</th>\n",
       "      <th>1</th>\n",
       "      <th>2</th>\n",
       "    </tr>\n",
       "  </thead>\n",
       "  <tbody>\n",
       "    <tr>\n",
       "      <th>0</th>\n",
       "      <td>34.623660</td>\n",
       "      <td>78.024693</td>\n",
       "      <td>0</td>\n",
       "    </tr>\n",
       "    <tr>\n",
       "      <th>1</th>\n",
       "      <td>30.286711</td>\n",
       "      <td>43.894998</td>\n",
       "      <td>0</td>\n",
       "    </tr>\n",
       "    <tr>\n",
       "      <th>2</th>\n",
       "      <td>35.847409</td>\n",
       "      <td>72.902198</td>\n",
       "      <td>0</td>\n",
       "    </tr>\n",
       "    <tr>\n",
       "      <th>3</th>\n",
       "      <td>60.182599</td>\n",
       "      <td>86.308552</td>\n",
       "      <td>1</td>\n",
       "    </tr>\n",
       "    <tr>\n",
       "      <th>4</th>\n",
       "      <td>79.032736</td>\n",
       "      <td>75.344376</td>\n",
       "      <td>1</td>\n",
       "    </tr>\n",
       "  </tbody>\n",
       "</table>\n",
       "</div>"
      ],
      "text/plain": [
       "           0          1  2\n",
       "0  34.623660  78.024693  0\n",
       "1  30.286711  43.894998  0\n",
       "2  35.847409  72.902198  0\n",
       "3  60.182599  86.308552  1\n",
       "4  79.032736  75.344376  1"
      ]
     },
     "execution_count": 183,
     "metadata": {},
     "output_type": "execute_result"
    }
   ],
   "source": [
    "data=pd.read_csv(\"ex2data1.txt\",header=None)\n",
    "data.head()"
   ]
  },
  {
   "cell_type": "code",
   "execution_count": 184,
   "id": "cdcd9083",
   "metadata": {},
   "outputs": [
    {
     "data": {
      "text/html": [
       "<div>\n",
       "<style scoped>\n",
       "    .dataframe tbody tr th:only-of-type {\n",
       "        vertical-align: middle;\n",
       "    }\n",
       "\n",
       "    .dataframe tbody tr th {\n",
       "        vertical-align: top;\n",
       "    }\n",
       "\n",
       "    .dataframe thead th {\n",
       "        text-align: right;\n",
       "    }\n",
       "</style>\n",
       "<table border=\"1\" class=\"dataframe\">\n",
       "  <thead>\n",
       "    <tr style=\"text-align: right;\">\n",
       "      <th></th>\n",
       "      <th>0</th>\n",
       "      <th>1</th>\n",
       "    </tr>\n",
       "  </thead>\n",
       "  <tbody>\n",
       "    <tr>\n",
       "      <th>0</th>\n",
       "      <td>34.623660</td>\n",
       "      <td>78.024693</td>\n",
       "    </tr>\n",
       "    <tr>\n",
       "      <th>1</th>\n",
       "      <td>30.286711</td>\n",
       "      <td>43.894998</td>\n",
       "    </tr>\n",
       "    <tr>\n",
       "      <th>2</th>\n",
       "      <td>35.847409</td>\n",
       "      <td>72.902198</td>\n",
       "    </tr>\n",
       "    <tr>\n",
       "      <th>3</th>\n",
       "      <td>60.182599</td>\n",
       "      <td>86.308552</td>\n",
       "    </tr>\n",
       "    <tr>\n",
       "      <th>4</th>\n",
       "      <td>79.032736</td>\n",
       "      <td>75.344376</td>\n",
       "    </tr>\n",
       "  </tbody>\n",
       "</table>\n",
       "</div>"
      ],
      "text/plain": [
       "           0          1\n",
       "0  34.623660  78.024693\n",
       "1  30.286711  43.894998\n",
       "2  35.847409  72.902198\n",
       "3  60.182599  86.308552\n",
       "4  79.032736  75.344376"
      ]
     },
     "execution_count": 184,
     "metadata": {},
     "output_type": "execute_result"
    }
   ],
   "source": [
    "X=data.iloc[:,:2]\n",
    "y=data.iloc[:,2]\n",
    "X.head()"
   ]
  },
  {
   "cell_type": "code",
   "execution_count": 185,
   "id": "62e86f25",
   "metadata": {},
   "outputs": [
    {
     "data": {
      "text/plain": [
       "<matplotlib.legend.Legend at 0x1ce7708d6c0>"
      ]
     },
     "execution_count": 185,
     "metadata": {},
     "output_type": "execute_result"
    },
    {
     "data": {
      "image/png": "[encoded data removed]",
      "text/plain": [
       "<Figure size 640x480 with 1 Axes>"
      ]
     },
     "metadata": {},
     "output_type": "display_data"
    }
   ],
   "source": [
    "res=y==1\n",
    "adm=plt.scatter(X[res][0].values,X[res][1].values,c=\"r\",marker=\"+\")\n",
    "not_adm = plt.scatter(X[~res][0].values, X[~res][1].values,c=\"b\",marker=\"x\")\n",
    "#plt.xlabel(\"Exam 1 score\")\n",
    "#plt.ylabel(\"Exam 2 score\")\n",
    "plt.legend((adm, not_adm), ('Admitted', 'Not admitted'))"
   ]
  },
  {
   "cell_type": "markdown",
   "id": "ee2b0d6e",
   "metadata": {},
   "source": [
    "# Sigmoid function\n",
    "The hypothesis function that we have used in linear regression can't be used in logistic regression. Because that function may return values that are greater than one.In other words continuous values while we need catagorical result in logistic regression. Moreover, that function is not convex function. Thats why we take help from sigmoid function. Before move to further, lets implement the sigmoid function first"
   ]
  },
  {
   "cell_type": "code",
   "execution_count": 186,
   "id": "fb7359ce",
   "metadata": {},
   "outputs": [],
   "source": [
    "def sigmoid(x):\n",
    "      return 1/(1+np.exp(-x))\n"
   ]
  },
  {
   "cell_type": "markdown",
   "id": "7d9223cf",
   "metadata": {},
   "source": [
    "# Cost Function"
   ]
  },
  {
   "cell_type": "code",
   "execution_count": 187,
   "id": "fb2ebd0b",
   "metadata": {},
   "outputs": [],
   "source": [
    "def cf_logistic(X,y,theta):\n",
    "    m=len(y)\n",
    "    z=np.dot(X,theta)\n",
    "    y_pred=sigmoid(z)\n",
    "    error=(-y * np.log(y_pred)) - ((1-y)*np.log(1-y_pred))\n",
    "    cost=(1/m)*np.sum(error)\n",
    "    grad=(1/m)*np.dot(X.transpose(),(y_pred-y))\n",
    "    return cost,grad"
   ]
  },
  {
   "cell_type": "markdown",
   "id": "d67b9348",
   "metadata": {},
   "source": [
    "### Setting initial parameter and test cost function\n"
   ]
  },
  {
   "cell_type": "code",
   "execution_count": 188,
   "id": "1eaea665",
   "metadata": {},
   "outputs": [
    {
     "name": "stdout",
     "output_type": "stream",
     "text": [
      "cost for initial theta is :  0.6931471805599453\n",
      "grad at initial theta is :  [[ -0.1       ]\n",
      " [-12.00921659]\n",
      " [-11.26284221]]\n",
      "initial theta is :  [[0.]\n",
      " [0.]\n",
      " [0.]]\n"
     ]
    }
   ],
   "source": [
    "m,n=X.shape[0],X.shape[1]\n",
    "X=np.append(np.ones((m,1)),X,axis=1)\n",
    "y=y.values.reshape(m,1)\n",
    "initial_theta=np.zeros((n+1,1))\n",
    "cost,grad=cf_logistic(X,y,initial_theta)\n",
    "print(\"cost for initial theta is : \", cost)\n",
    "print(\"grad at initial theta is : \",grad)\n",
    "print(\"initial theta is : \",initial_theta)"
   ]
  },
  {
   "cell_type": "code",
   "execution_count": 189,
   "id": "58ca3e28",
   "metadata": {},
   "outputs": [
    {
     "name": "stdout",
     "output_type": "stream",
     "text": [
      "Unnormalized form of X :  [[ 1.         34.62365962 78.02469282]\n",
      " [ 1.         30.28671077 43.89499752]\n",
      " [ 1.         35.84740877 72.90219803]\n",
      " [ 1.         60.18259939 86.3085521 ]\n",
      " [ 1.         79.03273605 75.34437644]]\n"
     ]
    }
   ],
   "source": [
    "print(\"Unnormalized form of X : \", X[:5,])"
   ]
  },
  {
   "cell_type": "markdown",
   "id": "b4ed4473",
   "metadata": {},
   "source": [
    "#### Before doing gradient descent algorithm we need to perform feature normalization"
   ]
  },
  {
   "cell_type": "code",
   "execution_count": 190,
   "id": "260a4ce3",
   "metadata": {},
   "outputs": [],
   "source": [
    "def featureNorm(X):\n",
    "    return (X-np.mean(X))/np.std(X)"
   ]
  },
  {
   "cell_type": "code",
   "execution_count": 191,
   "id": "4327fa12",
   "metadata": {},
   "outputs": [],
   "source": [
    "X=featureNorm(X)"
   ]
  },
  {
   "cell_type": "code",
   "execution_count": 192,
   "id": "a8aed9bd",
   "metadata": {},
   "outputs": [
    {
     "name": "stdout",
     "output_type": "stream",
     "text": [
      "Normalized X :  [[-1.26237152 -0.28185018  0.98379548]\n",
      " [-1.26237152 -0.40832276 -0.01148269]\n",
      " [-1.26237152 -0.24616364  0.83441509]\n",
      " [-1.26237152  0.46349063  1.22536647]\n",
      " [-1.26237152  1.01319169  0.90563304]]\n"
     ]
    }
   ],
   "source": [
    "#after normalization lets have a look on the data\n",
    "print(\"Normalized X : \",X[:5,])"
   ]
  },
  {
   "cell_type": "code",
   "execution_count": 193,
   "id": "d8000b36",
   "metadata": {},
   "outputs": [],
   "source": [
    "num_iter=1000\n",
    "alpha=.5"
   ]
  },
  {
   "cell_type": "markdown",
   "id": "9fccb8ee",
   "metadata": {},
   "source": [
    "As mentioned in the lecture, the gradient descent algorithm is very similar to linear regression. The only difference is that the hypothesis h(x) is now g(Θ^Tx) where g is the sigmoid function."
   ]
  },
  {
   "cell_type": "code",
   "execution_count": 194,
   "id": "cf104fb0",
   "metadata": {},
   "outputs": [],
   "source": [
    "def gD_logistic(X,y,theta,alpha,num_iter):\n",
    "    m=len(y)\n",
    "    Jh_logistic=[]\n",
    "    for i in range(num_iter):\n",
    "        cost,grad=cf_logistic(X,y,theta)\n",
    "        theta=theta-(alpha*grad)\n",
    "        Jh_logistic.append(cost)\n",
    "    return theta, Jh_logistic\n",
    "    "
   ]
  },
  {
   "cell_type": "code",
   "execution_count": 195,
   "id": "a2b78153",
   "metadata": {},
   "outputs": [
    {
     "name": "stdout",
     "output_type": "stream",
     "text": [
      "[[4.48213443]\n",
      " [5.69132904]\n",
      " [5.50895331]]\n"
     ]
    }
   ],
   "source": [
    "optimized_theta,Jh_logistic=gD_logistic(X,y,initial_theta,alpha,num_iter)\n",
    "print(optimized_theta)"
   ]
  },
  {
   "cell_type": "code",
   "execution_count": 196,
   "id": "3ef8468a",
   "metadata": {},
   "outputs": [
    {
     "name": "stdout",
     "output_type": "stream",
     "text": [
      "0.20806000435638866\n"
     ]
    }
   ],
   "source": [
    "print(Jh_logistic[-1])"
   ]
  },
  {
   "cell_type": "code",
   "execution_count": 197,
   "id": "21f78201",
   "metadata": {
    "scrolled": true
   },
   "outputs": [
    {
     "data": {
      "text/plain": [
       "Text(0.5, 1.0, 'Cost funtion optimization curve using graient descent')"
      ]
     },
     "execution_count": 197,
     "metadata": {},
     "output_type": "execute_result"
    },
    {
     "data": {
      "image/png": "[encoded data removed]",
      "text/plain": [
       "<Figure size 640x480 with 1 Axes>"
      ]
     },
     "metadata": {},
     "output_type": "display_data"
    }
   ],
   "source": [
    "#plot the cost function vs iterations grap\n",
    "plt.plot(Jh_logistic)\n",
    "#plt.xlabel(\"iterations\")\n",
    "#plt.ylabel(\"$J(\\Theta)$\")\n",
    "plt.title(\"Cost funtion optimization curve using graient descent\")"
   ]
  },
  {
   "cell_type": "markdown",
   "id": "5aa7d674",
   "metadata": {},
   "source": [
    " I tried different number of iterations and learning rate for this task. but so far this is the least when alpha=.5 and iterations =1000. and in the above curve we can see that error is plateau at 1000 iterations"
   ]
  },
  {
   "cell_type": "markdown",
   "id": "f1cb56d5",
   "metadata": {},
   "source": [
    "# Ploting the decision boundary using optimized theta"
   ]
  },
  {
   "cell_type": "code",
   "execution_count": 198,
   "id": "5a4bab2c",
   "metadata": {},
   "outputs": [
    {
     "name": "stdout",
     "output_type": "stream",
     "text": [
      "[[4.48213443]\n",
      " [5.69132904]\n",
      " [5.50895331]]\n"
     ]
    }
   ],
   "source": [
    "print(optimized_theta)"
   ]
  },
  {
   "cell_type": "code",
   "execution_count": 199,
   "id": "ca41f66e",
   "metadata": {},
   "outputs": [
    {
     "name": "stdout",
     "output_type": "stream",
     "text": [
      "(3, 1)\n"
     ]
    }
   ],
   "source": [
    "print(optimized_theta.shape)"
   ]
  },
  {
   "cell_type": "code",
   "execution_count": 200,
   "id": "e47089b8",
   "metadata": {},
   "outputs": [
    {
     "data": {
      "text/plain": [
       "<matplotlib.legend.Legend at 0x1ce76fb26b0>"
      ]
     },
     "execution_count": 200,
     "metadata": {},
     "output_type": "execute_result"
    },
    {
     "data": {
      "image/png": "[encoded data removed]",
      "text/plain": [
       "<Figure size 640x480 with 1 Axes>"
      ]
     },
     "metadata": {},
     "output_type": "display_data"
    }
   ],
   "source": [
    "\n",
    "# Plot the decision boundary\n",
    "plot_x = np.array([np.min(X[:, 1]) - 2, np.max(X[:, 1]) + 2])\n",
    "plot_y = (-1 / optimized_theta[2]) * (optimized_theta[1] * plot_x + optimized_theta[0])\n",
    "plt.plot(plot_x, plot_y, c=\"g\", label=\"Decision Boundary\")\n",
    "\n",
    "\n",
    "mask = y.flatten() == 1\n",
    "adm = plt.scatter(X[mask][:,1], X[mask][:,2])\n",
    "not_adm = plt.scatter(X[~mask][:,1], X[~mask][:,2])\n",
    "decision_boun = plt.plot(plot_x, plot_y)\n",
    "plt.legend((adm, not_adm), ('Admitted', 'Not admitted'))\n",
    "# Set labels and legend\n",
    "plt.legend()\n",
    "\n"
   ]
  },
  {
   "cell_type": "markdown",
   "id": "2093283c",
   "metadata": {},
   "source": [
    "# Accuracy \n",
    "lets check how our model is to predict"
   ]
  },
  {
   "cell_type": "code",
   "execution_count": 201,
   "id": "954ff23d",
   "metadata": {},
   "outputs": [
    {
     "name": "stdout",
     "output_type": "stream",
     "text": [
      "89.0 %\n"
     ]
    }
   ],
   "source": [
    "def lr_accuracy(X,y,theta,cutoff):\n",
    "    pred=[sigmoid(np.dot(X,theta))>=cutoff]\n",
    "    ac=np.mean(pred==y)\n",
    "    print(ac*100,\"%\")\n",
    "lr_accuracy(X,y,optimized_theta,.5)"
   ]
  },
  {
   "cell_type": "markdown",
   "id": "82441116",
   "metadata": {},
   "source": [
    "89 percent is not that model. However we should do further work to increase "
   ]
  },
  {
   "cell_type": "markdown",
   "id": "f7c07550",
   "metadata": {},
   "source": [
    "# Predictions\n",
    "lets predict for an unknown value"
   ]
  },
  {
   "cell_type": "code",
   "execution_count": 202,
   "id": "f2e7f1ed",
   "metadata": {},
   "outputs": [
    {
     "name": "stdout",
     "output_type": "stream",
     "text": [
      "Student with scores 60 and 70, model predict an admission probability of 0.8230090915004592\n"
     ]
    }
   ],
   "source": [
    "x_test = np.array([60,70])\n",
    "x_test = np.append(np.ones(1),x_test)\n",
    "x_test = featureNorm(x_test)\n",
    "prob = sigmoid(x_test.dot(optimized_theta))\n",
    "print(\"Student with scores 60 and 70, model predict an admission probability of\",prob[0])"
   ]
  },
  {
   "cell_type": "markdown",
   "id": "61725ba9",
   "metadata": {},
   "source": [
    "## Regularized Logistic regression\n",
    "You will implement regularized logistic regression to predict whether microchips from a fabrication plant passes quality assurance (QA). During QA, each microchip goes through various tests to ensure it is functioning correctly.\n",
    "\n",
    "Suppose you are the product manager of the factory and you have the test results for some microchips on two different tests. From these two tests, you would like to determine whether the microchips should be accepted or rejected. To help you make the decision, you have a dataset of test results on past microchips, from which you can build a logistic regression model."
   ]
  },
  {
   "cell_type": "markdown",
   "id": "1aa8121e",
   "metadata": {},
   "source": [
    "# Import necessary library"
   ]
  },
  {
   "cell_type": "code",
   "execution_count": 203,
   "id": "d26c86fc",
   "metadata": {},
   "outputs": [],
   "source": [
    "import numpy as np\n",
    "import pandas as pd\n",
    "import matplotlib.pyplot as plt\n",
    "import scipy.optimize as opt    # more on this later"
   ]
  },
  {
   "cell_type": "code",
   "execution_count": 204,
   "id": "1a12a603",
   "metadata": {},
   "outputs": [
    {
     "data": {
      "text/html": [
       "<div>\n",
       "<style scoped>\n",
       "    .dataframe tbody tr th:only-of-type {\n",
       "        vertical-align: middle;\n",
       "    }\n",
       "\n",
       "    .dataframe tbody tr th {\n",
       "        vertical-align: top;\n",
       "    }\n",
       "\n",
       "    .dataframe thead th {\n",
       "        text-align: right;\n",
       "    }\n",
       "</style>\n",
       "<table border=\"1\" class=\"dataframe\">\n",
       "  <thead>\n",
       "    <tr style=\"text-align: right;\">\n",
       "      <th></th>\n",
       "      <th>0</th>\n",
       "      <th>1</th>\n",
       "      <th>2</th>\n",
       "    </tr>\n",
       "  </thead>\n",
       "  <tbody>\n",
       "    <tr>\n",
       "      <th>0</th>\n",
       "      <td>0.051267</td>\n",
       "      <td>0.69956</td>\n",
       "      <td>1</td>\n",
       "    </tr>\n",
       "    <tr>\n",
       "      <th>1</th>\n",
       "      <td>-0.092742</td>\n",
       "      <td>0.68494</td>\n",
       "      <td>1</td>\n",
       "    </tr>\n",
       "    <tr>\n",
       "      <th>2</th>\n",
       "      <td>-0.213710</td>\n",
       "      <td>0.69225</td>\n",
       "      <td>1</td>\n",
       "    </tr>\n",
       "    <tr>\n",
       "      <th>3</th>\n",
       "      <td>-0.375000</td>\n",
       "      <td>0.50219</td>\n",
       "      <td>1</td>\n",
       "    </tr>\n",
       "    <tr>\n",
       "      <th>4</th>\n",
       "      <td>-0.513250</td>\n",
       "      <td>0.46564</td>\n",
       "      <td>1</td>\n",
       "    </tr>\n",
       "  </tbody>\n",
       "</table>\n",
       "</div>"
      ],
      "text/plain": [
       "          0        1  2\n",
       "0  0.051267  0.69956  1\n",
       "1 -0.092742  0.68494  1\n",
       "2 -0.213710  0.69225  1\n",
       "3 -0.375000  0.50219  1\n",
       "4 -0.513250  0.46564  1"
      ]
     },
     "execution_count": 204,
     "metadata": {},
     "output_type": "execute_result"
    }
   ],
   "source": [
    "data = pd.read_csv('ex2data2.txt', header = None)\n",
    "X = data.iloc[:,:-1]\n",
    "y = data.iloc[:,2]\n",
    "data.head()"
   ]
  },
  {
   "cell_type": "code",
   "execution_count": 205,
   "id": "2f354a7e",
   "metadata": {},
   "outputs": [
    {
     "name": "stdout",
     "output_type": "stream",
     "text": [
      "(118, 3)\n",
      "(118, 2)\n",
      "(118,)\n",
      "          0        1\n",
      "0  0.051267  0.69956\n"
     ]
    }
   ],
   "source": [
    "print(data.shape)\n",
    "print(X.shape)\n",
    "print(y.shape)\n",
    "print(X[:1])"
   ]
  },
  {
   "cell_type": "markdown",
   "id": "4afaf88a",
   "metadata": {},
   "source": [
    "# Visualizing the data\n",
    "\n",
    "Before starting to implement any learning algorithm, it is always good to visualize the data if possible."
   ]
  },
  {
   "cell_type": "code",
   "execution_count": 206,
   "id": "707930f7",
   "metadata": {
    "scrolled": true
   },
   "outputs": [
    {
     "data": {
      "image/png": "[encoded data removed]",
      "text/plain": [
       "<Figure size 640x480 with 1 Axes>"
      ]
     },
     "metadata": {},
     "output_type": "display_data"
    }
   ],
   "source": [
    "mask = y == 1\n",
    "passed = plt.scatter(X[mask][0].values, X[mask][1].values)\n",
    "failed = plt.scatter(X[~mask][0].values, X[~mask][1].values)\n",
    "plt.legend((passed, failed), ('Passed', 'Failed'))\n",
    "plt.show()"
   ]
  },
  {
   "cell_type": "markdown",
   "id": "fdc9a707",
   "metadata": {},
   "source": [
    "Plotting the data clearly shows that the decision boundary that separates the different classes is a non-linear one. This lead to the next step of feature mapping, where we add additional polynomial terms to try and better fit the data"
   ]
  },
  {
   "cell_type": "markdown",
   "id": "4bbc9a7d",
   "metadata": {},
   "source": [
    "# Feature Mapping and Adding intercept term\n",
    "Refers to add more feature from the existing features.While the feature mapping allows us to build a more expressive classifier, it is also more susceptible to over fitting"
   ]
  },
  {
   "cell_type": "code",
   "execution_count": 207,
   "id": "a15102a4",
   "metadata": {
    "scrolled": true
   },
   "outputs": [
    {
     "name": "stderr",
     "output_type": "stream",
     "text": [
      "C:\\Users\\klikh\\AppData\\Local\\Temp\\ipykernel_11792\\169329379.py:6: FutureWarning: Support for multi-dimensional indexing (e.g. `obj[:, None]`) is deprecated and will be removed in a future version.  Convert to a numpy array before indexing instead.\n",
      "  out = np.hstack((out, np.multiply(np.power(X1, i-j),np.power(X2, j))[:,np.newaxis]))\n"
     ]
    }
   ],
   "source": [
    "def mapFeature(X1, X2):\n",
    "    degree = 6\n",
    "    out = np.ones(X.shape[0])[:,np.newaxis]\n",
    "    for i in range(1, degree+1):\n",
    "        for j in range(i+1):\n",
    "            out = np.hstack((out, np.multiply(np.power(X1, i-j),np.power(X2, j))[:,np.newaxis]))\n",
    "    return out\n",
    "X = mapFeature(X.iloc[:,0], X.iloc[:,1])"
   ]
  },
  {
   "cell_type": "markdown",
   "id": "f722cee8",
   "metadata": {},
   "source": [
    "# sigmoid"
   ]
  },
  {
   "cell_type": "code",
   "execution_count": 208,
   "id": "b09aa8ba",
   "metadata": {},
   "outputs": [],
   "source": [
    "def sigmoid(z):\n",
    "    return 1/(1+np.exp(-z))"
   ]
  },
  {
   "cell_type": "markdown",
   "id": "e1621d1a",
   "metadata": {},
   "source": [
    "# Cost Funtion\n"
   ]
  },
  {
   "cell_type": "code",
   "execution_count": 209,
   "id": "e6c038a8",
   "metadata": {},
   "outputs": [],
   "source": [
    "# def cf_logisticR(X,y,theta,lam):\n",
    "#     m=len(y)\n",
    "#     y=y[:,np.newaxis]\n",
    "#     z=np.dot(X,theta)\n",
    "#     y_pred=sigmoid(z)\n",
    "#     error = (-y * np.log( y_pred)) - ((1-y)*np.log(1- y_pred))\n",
    "#     cost=(1/m)*np.sum(error)\n",
    "#     regCost=cost+lam/(2*m)*np.sum(theta**2)\n",
    "#     # compute gradient\n",
    "#     grad=np.zeros((m,1))\n",
    "#     grad=(1/m)*np.dot(X.transpose(),error)\n",
    "#     grad[1:]=grad[1:]+(lam/m)*theta[1:]\n",
    "#     return regCost,grad  \n",
    "    \n",
    "    \n",
    "def costFunctionReg(theta, X, y ,Lambda):\n",
    "    m=len(y)\n",
    "    y=y[:,np.newaxis]\n",
    "    predictions = sigmoid(X @ theta)\n",
    "    error = (-y * np.log(predictions)) - ((1-y)*np.log(1-predictions))\n",
    "    cost = 1/m * sum(error)\n",
    "    regCost= cost + Lambda/(2*m) * sum(theta**2)\n",
    "\n",
    "    # compute gradient\n",
    "    j_0= 1/m * (X.transpose() @ (predictions - y))[0]\n",
    "    j_1 = 1/m * (X.transpose() @ (predictions - y))[1:] + (Lambda/m)* theta[1:]\n",
    "    grad= np.vstack((j_0[:,np.newaxis],j_1))\n",
    "    return regCost[0], grad\n"
   ]
  },
  {
   "cell_type": "code",
   "execution_count": 210,
   "id": "4bf46807",
   "metadata": {},
   "outputs": [
    {
     "name": "stdout",
     "output_type": "stream",
     "text": [
      "[[1.00000000e+00 5.12670000e-02 6.99560000e-01 2.62830529e-03\n",
      "  3.58643425e-02 4.89384194e-01 1.34745327e-04 1.83865725e-03\n",
      "  2.50892595e-02 3.42353606e-01 6.90798869e-06 9.42624411e-05\n",
      "  1.28625106e-03 1.75514423e-02 2.39496889e-01 3.54151856e-07\n",
      "  4.83255257e-06 6.59422333e-05 8.99809795e-04 1.22782870e-02\n",
      "  1.67542444e-01 1.81563032e-08 2.47750473e-07 3.38066048e-06\n",
      "  4.61305487e-05 6.29470940e-04 8.58939846e-03 1.17205992e-01]]\n"
     ]
    }
   ],
   "source": [
    "print(X[:1])"
   ]
  },
  {
   "cell_type": "markdown",
   "id": "03dbeac5",
   "metadata": {},
   "source": [
    "# setting initial parameters and check the cost function\n"
   ]
  },
  {
   "cell_type": "code",
   "execution_count": 211,
   "id": "a25800be",
   "metadata": {},
   "outputs": [
    {
     "name": "stdout",
     "output_type": "stream",
     "text": [
      "initial theta [[340412.6593343 ]\n",
      " [109440.63822766]\n",
      " [ -6571.19661218]]\n",
      "Cost at initial theta (zeros): 0.6931471805599461\n"
     ]
    },
    {
     "name": "stderr",
     "output_type": "stream",
     "text": [
      "C:\\Users\\klikh\\AppData\\Local\\Temp\\ipykernel_11792\\3419122384.py:18: FutureWarning: Support for multi-dimensional indexing (e.g. `obj[:, None]`) is deprecated and will be removed in a future version.  Convert to a numpy array before indexing instead.\n",
      "  y=y[:,np.newaxis]\n"
     ]
    }
   ],
   "source": [
    "# Initialize fitting parameters\n",
    "initial_theta = np.zeros((X.shape[1], 1))\n",
    "# Set regularization parameter lambda to 1\n",
    "Lambda = 1\n",
    "\n",
    "#initial theta\n",
    "print(\"initial theta\",theta[:3])\n",
    "#Compute and display initial cost and gradient for regularized logistic regression\n",
    "cost, grad=costFunctionReg(initial_theta, X, y, Lambda)\n",
    "print(\"Cost at initial theta (zeros):\",cost)"
   ]
  },
  {
   "cell_type": "code",
   "execution_count": 212,
   "id": "6fa84a97",
   "metadata": {},
   "outputs": [
    {
     "name": "stdout",
     "output_type": "stream",
     "text": [
      "final X, y [[1.00000000e+00 5.12670000e-02 6.99560000e-01 2.62830529e-03\n",
      "  3.58643425e-02 4.89384194e-01 1.34745327e-04 1.83865725e-03\n",
      "  2.50892595e-02 3.42353606e-01 6.90798869e-06 9.42624411e-05\n",
      "  1.28625106e-03 1.75514423e-02 2.39496889e-01 3.54151856e-07\n",
      "  4.83255257e-06 6.59422333e-05 8.99809795e-04 1.22782870e-02\n",
      "  1.67542444e-01 1.81563032e-08 2.47750473e-07 3.38066048e-06\n",
      "  4.61305487e-05 6.29470940e-04 8.58939846e-03 1.17205992e-01]] 0    1\n",
      "Name: 2, dtype: int64\n",
      "\n",
      "\n",
      " shape: (118, 28) (118,)\n"
     ]
    }
   ],
   "source": [
    "print(\"final X, y\",X[:1],y[:1])\n",
    "print(\"\\n\\n shape:\",X.shape,y.shape)"
   ]
  },
  {
   "cell_type": "code",
   "execution_count": 213,
   "id": "75238c3b",
   "metadata": {},
   "outputs": [
    {
     "name": "stdout",
     "output_type": "stream",
     "text": [
      "2043280073.1502974\n"
     ]
    }
   ],
   "source": [
    "print(J)"
   ]
  },
  {
   "cell_type": "code",
   "execution_count": 214,
   "id": "1b835c24",
   "metadata": {},
   "outputs": [
    {
     "name": "stdout",
     "output_type": "stream",
     "text": [
      "initial grad [[8.47457627e-03]\n",
      " [1.87880932e-02]\n",
      " [7.77711864e-05]\n",
      " [5.03446395e-02]]\n"
     ]
    }
   ],
   "source": [
    "print(\"initial grad\",grad[:4])"
   ]
  },
  {
   "cell_type": "code",
   "execution_count": 215,
   "id": "678052eb",
   "metadata": {},
   "outputs": [
    {
     "name": "stdout",
     "output_type": "stream",
     "text": [
      "final X, y\n",
      " [[1.00000000e+00 5.12670000e-02 6.99560000e-01 2.62830529e-03\n",
      "  3.58643425e-02 4.89384194e-01 1.34745327e-04 1.83865725e-03\n",
      "  2.50892595e-02 3.42353606e-01 6.90798869e-06 9.42624411e-05\n",
      "  1.28625106e-03 1.75514423e-02 2.39496889e-01 3.54151856e-07\n",
      "  4.83255257e-06 6.59422333e-05 8.99809795e-04 1.22782870e-02\n",
      "  1.67542444e-01 1.81563032e-08 2.47750473e-07 3.38066048e-06\n",
      "  4.61305487e-05 6.29470940e-04 8.58939846e-03 1.17205992e-01]] 0    1\n",
      "Name: 2, dtype: int64\n",
      "\n",
      "\n",
      " shape: (118, 28) (118,)\n"
     ]
    }
   ],
   "source": [
    "print(\"final X, y\\n\",X[:1],y[:1])\n",
    "print(\"\\n\\n shape:\",X.shape,y.shape)"
   ]
  },
  {
   "cell_type": "markdown",
   "id": "b19fef77",
   "metadata": {},
   "source": [
    "#  Gradient Descent Alogrithm\n",
    "mimizes cost function by fitting parameters thetas"
   ]
  },
  {
   "cell_type": "code",
   "execution_count": 216,
   "id": "93b47afe",
   "metadata": {},
   "outputs": [],
   "source": [
    "num_iters=800\n",
    "alpha=.2"
   ]
  },
  {
   "cell_type": "code",
   "execution_count": 217,
   "id": "b2ab80f7",
   "metadata": {},
   "outputs": [
    {
     "name": "stderr",
     "output_type": "stream",
     "text": [
      "C:\\Users\\klikh\\AppData\\Local\\Temp\\ipykernel_11792\\3419122384.py:18: FutureWarning: Support for multi-dimensional indexing (e.g. `obj[:, None]`) is deprecated and will be removed in a future version.  Convert to a numpy array before indexing instead.\n",
      "  y=y[:,np.newaxis]\n"
     ]
    },
    {
     "name": "stdout",
     "output_type": "stream",
     "text": [
      "The regularized theta using ridge regression:\n",
      " [[ 2.25319932]\n",
      " [ 1.44552306]\n",
      " [ 2.33283911]\n",
      " [-3.57008233]\n",
      " [-2.35002884]\n",
      " [-3.07090829]\n",
      " [ 0.50119267]\n",
      " [-0.88407626]\n",
      " [-0.69606495]\n",
      " [-0.22204243]\n",
      " [-2.69560917]\n",
      " [ 0.04161168]\n",
      " [-1.31573798]\n",
      " [-0.80286232]\n",
      " [-2.23101395]\n",
      " [-0.39638083]\n",
      " [-0.43758167]\n",
      " [ 0.09476652]\n",
      " [-0.69300577]\n",
      " [-0.78996079]\n",
      " [-0.45416815]\n",
      " [-2.01051679]\n",
      " [ 0.16446857]\n",
      " [-0.59855483]\n",
      " [ 0.11471778]\n",
      " [-0.73960173]\n",
      " [-0.52044034]\n",
      " [-1.38532427]]\n"
     ]
    }
   ],
   "source": [
    "def gradientDescent(X,y,theta,alpha,num_iters,Lambda):\n",
    "    m=len(y)\n",
    "    J_history =[]\n",
    "    \n",
    "    for i in range(num_iters):\n",
    "        cost, grad = costFunctionReg(theta,X,y,Lambda)\n",
    "        theta = theta - (alpha * grad)\n",
    "        J_history.append(cost)\n",
    "    \n",
    "    return theta , J_history\n",
    "theta , J_history = gradientDescent(X,y,initial_theta,1,num_iters,0.2)\n",
    "print(\"The regularized theta using ridge regression:\\n\",theta)"
   ]
  },
  {
   "cell_type": "markdown",
   "id": "05a3f173",
   "metadata": {},
   "source": [
    "# ploting the cost function w.r.t number of iterations\n"
   ]
  },
  {
   "cell_type": "code",
   "execution_count": 218,
   "id": "06ab857e",
   "metadata": {},
   "outputs": [
    {
     "data": {
      "text/plain": [
       "Text(0.5, 1.0, 'Cost function using Gradient Descent')"
      ]
     },
     "execution_count": 218,
     "metadata": {},
     "output_type": "execute_result"
    },
    {
     "data": {
      "image/png": "[encoded data removed]",
      "text/plain": [
       "<Figure size 640x480 with 1 Axes>"
      ]
     },
     "metadata": {},
     "output_type": "display_data"
    }
   ],
   "source": [
    "plt.plot(J_history)\n",
    "plt.title(\"Cost function using Gradient Descent\")"
   ]
  },
  {
   "cell_type": "markdown",
   "id": "51681282",
   "metadata": {},
   "source": [
    "# Checking decrease of cost function"
   ]
  },
  {
   "cell_type": "code",
   "execution_count": 219,
   "id": "36fbd2c2",
   "metadata": {},
   "outputs": [
    {
     "data": {
      "image/png": "[encoded data removed]",
      "text/plain": [
       "<Figure size 640x480 with 1 Axes>"
      ]
     },
     "metadata": {},
     "output_type": "display_data"
    }
   ],
   "source": [
    "u = np.linspace(-1, 1.5, 50)\n",
    "v = np.linspace(-1, 1.5, 50)\n",
    "z = np.zeros((len(u), len(v)))\n",
    "def mapFeatureForPlotting(X1, X2):\n",
    "    degree = 6\n",
    "    out = np.ones(1)\n",
    "    for i in range(1, degree+1):\n",
    "        for j in range(i+1):\n",
    "            out = np.hstack((out, np.multiply(np.power(X1, i-j), np.power(X2, j))))\n",
    "    return out\n",
    "for i in range(len(u)):\n",
    "    for j in range(len(v)):\n",
    "        z[i,j] = np.dot(mapFeatureForPlotting(u[i], v[j]), theta)\n",
    "mask = y.values.flatten() == 1\n",
    "X = data.iloc[:,:-1]\n",
    "passed = plt.scatter(X[mask][0], X[mask][1])\n",
    "failed = plt.scatter(X[~mask][0], X[~mask][1])\n",
    "plt.contour(u,v,z,0)\n",
    "plt.legend((passed, failed), ('Passed', 'Failed'))\n",
    "plt.show()"
   ]
  },
  {
   "cell_type": "code",
   "execution_count": 220,
   "id": "714b3f93",
   "metadata": {},
   "outputs": [],
   "source": [
    "# def classifierPredict(theta,X):\n",
    "#     \"\"\"\n",
    "#     take in numpy array of theta and X and predict the class \n",
    "#     \"\"\"\n",
    "#     predictions = X.dot(theta)\n",
    "    \n",
    "#     return predictions>0\n",
    "# p=classifierPredict(theta,X)\n",
    "# print(\"Train Accuracy:\", (sum(p==y[:,np.newaxis])/len(y) *100)[0],\"%\")"
   ]
  },
  {
   "cell_type": "markdown",
   "id": "78280c7a",
   "metadata": {},
   "source": [
    "# Digit recognition using logistic regression\n",
    "This series of exercise make use of a handwritten digits dataset that consists of 5000 training examples, where each example is a 20 pixel by 20 pixel grayscale image of the digit.\n",
    "# Understanding One-vs-all Classification\n",
    "If there are K different classes in a data-set, we will first build a model where we consider the data belonging to one class as positive, and all other classes as negative. Next, we will build another model assuming the data belonging to some other class as positive and the remaining as negative. We shall keep repeating the process until we build K different models.\n",
    "### In general, if there are K classes in the data-set, we need to build K different models.\n"
   ]
  },
  {
   "cell_type": "code",
   "execution_count": 221,
   "id": "927fb85d",
   "metadata": {},
   "outputs": [],
   "source": [
    "import numpy as np\n",
    "import pandas as pd\n",
    "import matplotlib.pyplot as plt\n",
    "from scipy.io import loadmat\n",
    "# Use loadmat to load matlab files\n",
    "data=loadmat(\"ex3data1.mat\")\n",
    "X=data[\"X\"]\n",
    "y=data[\"y\"]"
   ]
  },
  {
   "cell_type": "code",
   "execution_count": 222,
   "id": "e2449c4d",
   "metadata": {},
   "outputs": [
    {
     "data": {
      "text/plain": [
       "((5000, 400), (5000, 1))"
      ]
     },
     "execution_count": 222,
     "metadata": {},
     "output_type": "execute_result"
    }
   ],
   "source": [
    "X.shape, y.shape"
   ]
  },
  {
   "cell_type": "code",
   "execution_count": 223,
   "id": "e24c39a2",
   "metadata": {},
   "outputs": [
    {
     "name": "stdout",
     "output_type": "stream",
     "text": [
      "[[10]\n",
      " [10]\n",
      " [10]]\n"
     ]
    }
   ],
   "source": [
    "data.keys()\n",
    "print(data[\"y\"][:3])"
   ]
  },
  {
   "cell_type": "markdown",
   "id": "ac511a1a",
   "metadata": {},
   "source": [
    "# Visualising the data set"
   ]
  },
  {
   "cell_type": "code",
   "execution_count": 224,
   "id": "d03e48b6",
   "metadata": {},
   "outputs": [
    {
     "data": {
      "image/png": "[encoded data removed]",
      "text/plain": [
       "<Figure size 800x800 with 100 Axes>"
      ]
     },
     "metadata": {},
     "output_type": "display_data"
    }
   ],
   "source": [
    "#visualising the data\n",
    "import matplotlib.image as mpimg\n",
    "fig, axis = plt.subplots(10,10,figsize=(8,8))\n",
    "for i in range(10):\n",
    "    for j in range(10):\n",
    "        axis[i,j].imshow(X[np.random.randint(0,5001),:].reshape(20,20,order=\"F\"), cmap=\"hot\") #reshape back to 20 pixel by 20 pixel\n",
    "        axis[i,j].axis(\"off\")"
   ]
  },
  {
   "cell_type": "markdown",
   "id": "aefad856",
   "metadata": {},
   "source": [
    "The code block above construct 100 subplots and randomly visualize 100 out of the 5000 training examples using plt.imshow. Take note we have to reshape the training example back to 20 X 20 pixel before we can visualize it and adding order=\"F\" as a parameter into the reshape function ensure that the orientation of the image is upright."
   ]
  },
  {
   "cell_type": "code",
   "execution_count": 225,
   "id": "92947324",
   "metadata": {},
   "outputs": [],
   "source": [
    "# ## Adding the intercept term'\n",
    "# m = len(y)\n",
    "# ones = np.ones((m,1))\n",
    "# X = np.hstack((ones, X)) #add the intercept\n",
    "# (m,n) = X.shape"
   ]
  },
  {
   "cell_type": "markdown",
   "id": "daf84e54",
   "metadata": {},
   "source": [
    "# Sigmoidd and cost function"
   ]
  },
  {
   "cell_type": "code",
   "execution_count": 226,
   "id": "fdadb710",
   "metadata": {},
   "outputs": [],
   "source": [
    "def sigmoid(z):\n",
    "    return 1/ (1 + np.exp(-z))\n",
    "\n",
    "def lrCostFunction(theta, X, y, Lambda):\n",
    "    m=len(y)\n",
    "    predictions = sigmoid(X @ theta)\n",
    "    error = (-y * np.log(predictions)) - ((1-y)*np.log(1-predictions))\n",
    "    cost = 1/m * sum(error)\n",
    "    regCost= cost + Lambda/(2*m) * sum(theta[1:]**2)\n",
    "    \n",
    "    # compute gradient\n",
    "    j_0= 1/m * (X.transpose() @ (predictions - y))[0]\n",
    "    j_1 = 1/m * (X.transpose() @ (predictions - y))[1:] + (Lambda/m)* theta[1:]\n",
    "    grad= np.vstack((j_0[:,np.newaxis],j_1))\n",
    "    return regCost[0], grad"
   ]
  },
  {
   "cell_type": "markdown",
   "id": "81730759",
   "metadata": {},
   "source": [
    "\n",
    "The code grad = np.vstack((j_0[:, np.newaxis], j_1)) is using the NumPy library to vertically stack two arrays together. j_0[:, np.newaxis] is a way to reshape j_0 into a column vector. It adds a new axis to j_0 using np.newaxis, resulting in a shape of (n, 1) where n is the length of j_0.\n",
    "\n"
   ]
  },
  {
   "cell_type": "markdown",
   "id": "6efba427",
   "metadata": {},
   "source": [
    "# Initializing the parameters "
   ]
  },
  {
   "cell_type": "code",
   "execution_count": 229,
   "id": "e01404bd",
   "metadata": {},
   "outputs": [
    {
     "name": "stdout",
     "output_type": "stream",
     "text": [
      "Cost: 2.534819396109744 Expected cost: 2.534819\n",
      "Gradients:\n",
      " [[ 0.14656137]\n",
      " [-0.54855841]\n",
      " [ 0.72472227]\n",
      " [ 1.39800296]] \n",
      "Expected gradients:\n",
      " 0.146561\n",
      " -0.548558\n",
      " 0.724722\n",
      " 1.398003\n"
     ]
    }
   ],
   "source": [
    "# m,n=X.shape\n",
    "# print(m,n)\n",
    "# X_t=np.append(np.ones((m,1)),X,axis=1)\n",
    "# y_t=y.reshape(m,1)\n",
    "# theta_t=np.zeros((n+1,1))\n",
    "# alpha=.1\n",
    "# Lamda=1\n",
    "# num_iters=400\n",
    "# J,grad=lrCostFunction(theta_t,X_t,y_t,Lambda)\n",
    "# print(\"Cost:\",J,\"Expected cost: 2.534819\")\n",
    "\n",
    "theta_t = np.array([-2,-1,1,2]).reshape(4,1)\n",
    "X_t =np.array([np.linspace(0.1,1.5,15)]).reshape(3,5).T\n",
    "X_t = np.hstack((np.ones((5,1)), X_t))\n",
    "y_t = np.array([1,0,1,0,1]).reshape(5,1)\n",
    "J, grad = lrCostFunction(theta_t, X_t, y_t, 3)\n",
    "Lambda=1\n",
    "num_iters=400\n",
    "alpha=.1\n",
    "print(\"Cost:\",J,\"Expected cost: 2.534819\")\n",
    "print(\"Gradients:\\n\",grad,\"\\nExpected gradients:\\n 0.146561\\n -0.548558\\n 0.724722\\n 1.398003\")"
   ]
  },
  {
   "cell_type": "code",
   "execution_count": 230,
   "id": "1b033d73",
   "metadata": {},
   "outputs": [],
   "source": [
    "def gradientDescent(X,y,theta,alpha,num_iters,Lambda):\n",
    "    m=len(y)\n",
    "    J_history =[]\n",
    "    \n",
    "    for i in range(num_iters):\n",
    "        cost, grad = lrCostFunction(theta,X,y,Lambda)\n",
    "        theta = theta - (alpha * grad)\n",
    "        J_history.append(cost)\n",
    "    \n",
    "    return theta , J_history\n",
    "\n"
   ]
  },
  {
   "cell_type": "code",
   "execution_count": 231,
   "id": "8c0d359e",
   "metadata": {},
   "outputs": [
    {
     "name": "stdout",
     "output_type": "stream",
     "text": [
      "[[0.06422841]\n",
      " [0.02683551]\n",
      " [0.08689855]\n",
      " [0.14665224]]\n"
     ]
    }
   ],
   "source": [
    "optimized_theta,J_history=gradientDescent(X_t,y_t,theta_t,alpha,num_iters,Lambda)\n",
    "print(optimized_theta)"
   ]
  },
  {
   "cell_type": "code",
   "execution_count": null,
   "id": "919df930",
   "metadata": {},
   "outputs": [],
   "source": [
    "def oneVsAll(X, y, num_labels, Lambda):\n",
    "    m, n = X.shape[0], X.shape[1]\n",
    "    initial_theta = np.zeros((n+1,1))\n",
    "    all_theta = []\n",
    "    all_J=[]\n",
    "    # add intercept terms\n",
    "    \n",
    "    X = np.hstack((np.ones((m,1)),X))\n",
    "    \n",
    "    for i in range(1,num_labels+1):\n",
    "        theta , J_history = gradientDescent(X,np.where(y==i,1,0),initial_theta,1,300,Lambda)\n",
    "        all_theta.extend(theta)\n",
    "        all_J.extend(J_history)\n",
    "    return np.array(all_theta).reshape(num_labels,n+1), all_J"
   ]
  },
  {
   "cell_type": "code",
   "execution_count": 232,
   "id": "796b548e",
   "metadata": {},
   "outputs": [],
   "source": [
    "all_theta, all_J = oneVsAll(X, y, 10, 0.1)"
   ]
  },
  {
   "cell_type": "code",
   "execution_count": 239,
   "id": "dafb0d90",
   "metadata": {},
   "outputs": [
    {
     "name": "stdout",
     "output_type": "stream",
     "text": [
      "[[-3.41466417e-01  0.00000000e+00  0.00000000e+00 ...  7.53488100e-05\n",
      "   2.12516707e-07  0.00000000e+00]\n",
      " [-1.45647255e+00  0.00000000e+00  0.00000000e+00 ...  5.93427964e-04\n",
      "  -6.79593321e-05  0.00000000e+00]\n",
      " [-1.91272503e+00  0.00000000e+00  0.00000000e+00 ... -8.75484540e-06\n",
      "   1.67249019e-07  0.00000000e+00]\n",
      " [-7.82030625e-01  0.00000000e+00  0.00000000e+00 ...  1.34536886e-05\n",
      "   6.42575303e-07  0.00000000e+00]]\n"
     ]
    }
   ],
   "source": [
    "print(all_theta[:4])"
   ]
  },
  {
   "cell_type": "code",
   "execution_count": 240,
   "id": "b4b5f53c",
   "metadata": {},
   "outputs": [
    {
     "data": {
      "text/plain": [
       "Text(0.5, 1.0, 'Cost function using Gradient Descent')"
      ]
     },
     "execution_count": 240,
     "metadata": {},
     "output_type": "execute_result"
    },
    {
     "data": {
      "image/png": "[encoded data removed]",
      "text/plain": [
       "<Figure size 640x480 with 1 Axes>"
      ]
     },
     "metadata": {},
     "output_type": "display_data"
    }
   ],
   "source": [
    "plt.plot(all_J[0:300])\n",
    "# plt.xlabel(\"Iteration\")\n",
    "# plt.ylabel(\"$J(\\Theta)$\")\n",
    "plt.title(\"Cost function using Gradient Descent\")"
   ]
  },
  {
   "cell_type": "markdown",
   "id": "74328b70",
   "metadata": {},
   "source": [
    "# prediction\n",
    "\n",
    "In order to make a prediction, the probability of x(i) for each class was computed and the prediction is the class with the highest probability"
   ]
  },
  {
   "cell_type": "code",
   "execution_count": 243,
   "id": "29d131bb",
   "metadata": {},
   "outputs": [],
   "source": [
    "def predictOneVsAll(all_theta, X):\n",
    "    \"\"\"\n",
    "    Using all_theta, compute the probability of X(i) for each class and predict the label\n",
    "    \n",
    "    return a vector of prediction\n",
    "    \"\"\"\n",
    "    m= X.shape[0]\n",
    "    X = np.hstack((np.ones((m,1)),X))\n",
    "    \n",
    "    predictions = X @ all_theta.T\n",
    "    return np.argmax(predictions,axis=1)+1"
   ]
  },
  {
   "cell_type": "markdown",
   "id": "65b46398",
   "metadata": {},
   "source": [
    "np.argmax(predictions, axis=1): This function returns the indices of the maximum values along a specified axis of the predictions array. Here, axis=1 indicates that the maximum values should be searched along the columns or the second dimension of the array.\n",
    "\n",
    "+1: This operation adds 1 to the resulting indices obtained from np.argmax(). The purpose of this addition is to convert the zero-based indices to one-based indices. In many programming languages, including Python, indexing typically starts from 0. However, in certain contexts, such as class labels or categories, a one-based indexing convention may be used."
   ]
  },
  {
   "cell_type": "code",
   "execution_count": 244,
   "id": "afe20bfc",
   "metadata": {},
   "outputs": [
    {
     "name": "stdout",
     "output_type": "stream",
     "text": [
      "Training Set Accuracy: 91.46 %\n"
     ]
    }
   ],
   "source": [
    "pred = predictOneVsAll(all_theta, X)\n",
    "print(\"Training Set Accuracy:\",sum(pred[:,np.newaxis]==y)[0]/5000*100,\"%\")"
   ]
  },
  {
   "cell_type": "markdown",
   "id": "0870f716",
   "metadata": {},
   "source": [
    "# Neural Network\n",
    "Finally, time for neural networks. With the same dataset, we aimed to achieve higher accuracy using a more complex algorithm such as the neural network. For the first part of the exercise, the optimized theta values were given to us and we are supposed to implement feedforward propagation to obtain the prediction and model accuracy. the theta values are given in ex3weights.mat file"
   ]
  },
  {
   "cell_type": "code",
   "execution_count": 248,
   "id": "067caaf0",
   "metadata": {},
   "outputs": [],
   "source": [
    "mat2=loadmat(\"ex3weights.mat\")\n",
    "Theta1=mat2[\"Theta1\"] # Theta1 has size 25 x 401\n",
    "Theta2=mat2[\"Theta2\"] # Theta2 has size 10 x 26"
   ]
  },
  {
   "cell_type": "code",
   "execution_count": 249,
   "id": "243782a1",
   "metadata": {},
   "outputs": [
    {
     "data": {
      "text/plain": [
       "((25, 401), (10, 26))"
      ]
     },
     "execution_count": 249,
     "metadata": {},
     "output_type": "execute_result"
    }
   ],
   "source": [
    "Theta1.shape,Theta2.shape"
   ]
  },
  {
   "cell_type": "markdown",
   "id": "2f2b096d",
   "metadata": {},
   "source": [
    "shape of theta1(25,400): this means that number of feature is 400 in the input layer and 25 hidden units in the only hidden layer. Similarly the output layer is 10."
   ]
  },
  {
   "cell_type": "code",
   "execution_count": 250,
   "id": "d98852e1",
   "metadata": {},
   "outputs": [],
   "source": [
    "def predict(Theta1, Theta2, X):\n",
    "    \"\"\"\n",
    "    Predict the label of an input given a trained neural network\n",
    "    \"\"\"\n",
    "    m= X.shape[0]\n",
    "    X = np.hstack((np.ones((m,1)),X))\n",
    "    \n",
    "    a1 = sigmoid(X @ Theta1.T)\n",
    "    a1 = np.hstack((np.ones((m,1)), a1)) # hidden layer\n",
    "    a2 = sigmoid(a1 @ Theta2.T) # output layer\n",
    "    \n",
    "    return np.argmax(a2,axis=1)+1"
   ]
  },
  {
   "cell_type": "code",
   "execution_count": 251,
   "id": "2a3dab05",
   "metadata": {},
   "outputs": [
    {
     "name": "stdout",
     "output_type": "stream",
     "text": [
      "Training Set Accuracy: 97.52 %\n"
     ]
    }
   ],
   "source": [
    "pred2 = predict(Theta1, Theta2, X)\n",
    "print(\"Training Set Accuracy:\",sum(pred2[:,np.newaxis]==y)[0]/5000*100,\"%\")"
   ]
  },
  {
   "cell_type": "markdown",
   "id": "1bb4c6ba",
   "metadata": {},
   "source": [
    "# Neural Network from scratch\n"
   ]
  },
  {
   "cell_type": "code",
   "execution_count": null,
   "id": "d41e4a8a",
   "metadata": {},
   "outputs": [],
   "source": [
    "def sigmoidGradient(z):\n",
    "    \"\"\"\n",
    "    computes the gradient of the sigmoid function\n",
    "    \"\"\"\n",
    "    sigmoid = 1/(1 + np.exp(-z))\n",
    "    \n",
    "    return sigmoid *(1-sigmoid)\n",
    "def nnCostFunction(nn_params,input_layer_size, hidden_layer_size, num_labels,X, y,Lambda):\n",
    "    \"\"\"\n",
    "    nn_params contains the parameters unrolled into a vector\n",
    "    \n",
    "    compute the cost and gradient of the neural network\n",
    "    \"\"\"\n",
    "    # Reshape nn_params back into the parameters Theta1 and Theta2\n",
    "    Theta1 = nn_params[:((input_layer_size+1) * hidden_layer_size)].reshape(hidden_layer_size,input_layer_size+1)\n",
    "    Theta2 = nn_params[((input_layer_size +1)* hidden_layer_size ):].reshape(num_labels,hidden_layer_size+1)\n",
    "    \n",
    "    m = X.shape[0]\n",
    "    J=0\n",
    "    X = np.hstack((np.ones((m,1)),X))\n",
    "    y10 = np.zeros((m,num_labels))\n",
    "    \n",
    "    a1 = sigmoid(X @ Theta1.T)\n",
    "    a1 = np.hstack((np.ones((m,1)), a1)) # hidden layer\n",
    "    a2 = sigmoid(a1 @ Theta2.T) # output layer\n",
    "    \n",
    "    for i in range(1,num_labels+1):\n",
    "        y10[:,i-1][:,np.newaxis] = np.where(y==i,1,0)\n",
    "    for j in range(num_labels):\n",
    "        J = J + sum(-y10[:,j] * np.log(a2[:,j]) - (1-y10[:,j])*np.log(1-a2[:,j]))\n",
    "    \n",
    "    cost = 1/m* J\n",
    "    reg_J = cost + Lambda/(2*m) * (np.sum(Theta1[:,1:]**2) + np.sum(Theta2[:,1:]**2))\n",
    "    \n",
    "    # Implement the backpropagation algorithm to compute the gradients\n",
    "    \n",
    "    grad1 = np.zeros((Theta1.shape))\n",
    "    grad2 = np.zeros((Theta2.shape))\n",
    "    \n",
    "    for i in range(m):\n",
    "        xi= X[i,:] # 1 X 401\n",
    "        a1i = a1[i,:] # 1 X 26\n",
    "        a2i =a2[i,:] # 1 X 10\n",
    "        d2 = a2i - y10[i,:]\n",
    "        d1 = Theta2.T @ d2.T * sigmoidGradient(np.hstack((1,xi @ Theta1.T)))\n",
    "        grad1= grad1 + d1[1:][:,np.newaxis] @ xi[:,np.newaxis].T\n",
    "        grad2 = grad2 + d2.T[:,np.newaxis] @ a1i[:,np.newaxis].T\n",
    "        \n",
    "    grad1 = 1/m * grad1\n",
    "    grad2 = 1/m*grad2\n",
    "    \n",
    "    grad1_reg = grad1 + (Lambda/m) * np.hstack((np.zeros((Theta1.shape[0],1)),Theta1[:,1:]))\n",
    "    grad2_reg = grad2 + (Lambda/m) * np.hstack((np.zeros((Theta2.shape[0],1)),Theta2[:,1:]))\n",
    "    \n",
    "    return cost, grad1, grad2,reg_J, grad1_reg,grad2_reg"
   ]
  },
  {
   "cell_type": "code",
   "execution_count": null,
   "id": "70b6ece7",
   "metadata": {},
   "outputs": [],
   "source": [
    "def sigmoidGradient(z):\n",
    "    \"\"\"\n",
    "    computes the gradient of the sigmoid function\n",
    "    \"\"\"\n",
    "    sigmoid = 1/(1 + np.exp(-z))\n",
    "    \n",
    "    return sigmoid *(1-sigmoid) "
   ]
  },
  {
   "cell_type": "code",
   "execution_count": null,
   "id": "b7dfe59b",
   "metadata": {},
   "outputs": [],
   "source": [
    "input_layer_size  = 400\n",
    "hidden_layer_size = 25\n",
    "num_labels = 10\n",
    "nn_params = np.append(Theta1.flatten(),Theta2.flatten())\n",
    "J,reg_J = nnCostFunction(nn_params, input_layer_size, hidden_layer_size, num_labels, X, y, 1)[0:4:3]\n",
    "print(\"Cost at parameters (non-regularized):\",J,\"\\nCost at parameters (Regularized):\",reg_J)"
   ]
  },
  {
   "cell_type": "markdown",
   "id": "9c3e237e",
   "metadata": {},
   "source": [
    "# Random Initialization\n"
   ]
  },
  {
   "cell_type": "code",
   "execution_count": null,
   "id": "c4a0da88",
   "metadata": {},
   "outputs": [],
   "source": [
    "def randInitializeWeights(L_in, L_out):\n",
    "    \"\"\"\n",
    "    randomly initializes the weights of a layer with L_in incoming connections and L_out outgoing connections.\n",
    "    \"\"\"\n",
    "    \n",
    "    epi = (6**1/2) / (L_in + L_out)**1/2\n",
    "    \n",
    "    W = np.random.rand(L_out,L_in +1) *(2*epi) -epi\n",
    "    \n",
    "    return W"
   ]
  },
  {
   "cell_type": "code",
   "execution_count": null,
   "id": "13ee3694",
   "metadata": {},
   "outputs": [],
   "source": [
    "initial_Theta1 = randInitializeWeights(input_layer_size, hidden_layer_size)\n",
    "initial_Theta2 = randInitializeWeights(hidden_layer_size, num_labels)\n",
    "initial_nn_params = np.append(initial_Theta1.flatten(),initial_Theta2.flatten())"
   ]
  },
  {
   "cell_type": "code",
   "execution_count": null,
   "id": "44f69747",
   "metadata": {},
   "outputs": [],
   "source": [
    "debug_J  = nnCostFunction(nn_params, input_layer_size, hidden_layer_size, num_labels, X, y, 3)\n",
    "print(\"Cost at (fixed) debugging parameters (w/ lambda = 3):\",debug_J[3])"
   ]
  },
  {
   "cell_type": "markdown",
   "id": "fb383351",
   "metadata": {},
   "source": [
    "Learning parameters using Gradient Descent"
   ]
  },
  {
   "cell_type": "code",
   "execution_count": null,
   "id": "0b312147",
   "metadata": {},
   "outputs": [],
   "source": [
    "def gradientDescentnn(X,y,initial_nn_params,alpha,num_iters,Lambda,input_layer_size, hidden_layer_size, num_labels):\n",
    "    \"\"\"\n",
    "    Take in numpy array X, y and theta and update theta by taking num_iters gradient steps\n",
    "    with learning rate of alpha\n",
    "    \n",
    "    return theta and the list of the cost of theta during each iteration\n",
    "    \"\"\"\n",
    "    Theta1 = initial_nn_params[:((input_layer_size+1) * hidden_layer_size)].reshape(hidden_layer_size,input_layer_size+1)\n",
    "    Theta2 = initial_nn_params[((input_layer_size +1)* hidden_layer_size ):].reshape(num_labels,hidden_layer_size+1)\n",
    "    \n",
    "    m=len(y)\n",
    "    J_history =[]\n",
    "    \n",
    "    for i in range(num_iters):\n",
    "        nn_params = np.append(Theta1.flatten(),Theta2.flatten())\n",
    "        cost, grad1, grad2 = nnCostFunction(nn_params,input_layer_size, hidden_layer_size, num_labels,X, y,Lambda)[3:]\n",
    "        Theta1 = Theta1 - (alpha * grad1)\n",
    "        Theta2 = Theta2 - (alpha * grad2)\n",
    "        J_history.append(cost)\n",
    "    \n",
    "    nn_paramsFinal = np.append(Theta1.flatten(),Theta2.flatten())\n",
    "    return nn_paramsFinal , J_history"
   ]
  },
  {
   "cell_type": "code",
   "execution_count": null,
   "id": "27e9dd97",
   "metadata": {},
   "outputs": [],
   "source": [
    "nnTheta, nnJ_history = gradientDescentnn(X,y,initial_nn_params,0.8,800,1,input_layer_size, hidden_layer_size, num_labels)\n",
    "Theta1 = nnTheta[:((input_layer_size+1) * hidden_layer_size)].reshape(hidden_layer_size,input_layer_size+1)\n",
    "Theta2 = nnTheta[((input_layer_size +1)* hidden_layer_size ):].reshape(num_labels,hidden_layer_size+1)"
   ]
  },
  {
   "cell_type": "code",
   "execution_count": null,
   "id": "f4cff51d",
   "metadata": {},
   "outputs": [],
   "source": [
    "pred3 = predict(Theta1, Theta2, X)\n",
    "print(\"Training Set Accuracy:\",sum(pred3[:,np.newaxis]==y)[0]/5000*100,\"%\")"
   ]
  },
  {
   "cell_type": "markdown",
   "id": "fb253be5",
   "metadata": {},
   "source": [
    "# Support Vector Machine\n",
    "There is two part in this assignment. First, we will implement Support Vector Machines (SVM) on several 2D data set to have an intuition of the algorithms and how it works. Next, we will use SVM on emails datasets to try and classify spam emails.\n",
    "\n",
    "To load the dataset, loadmat from scipy.io is used to open the mat files"
   ]
  },
  {
   "cell_type": "code",
   "execution_count": null,
   "id": "aa342ec7",
   "metadata": {},
   "outputs": [],
   "source": [
    "import numpy as np\n",
    "import pandas as pd\n",
    "import matplotlib.pyplot as plt\n",
    "from scipy.io import loadmat\n",
    "mat = loadmat(\"ex6data1.mat\")\n",
    "X = mat[\"X\"]\n",
    "y = mat[\"y\"]"
   ]
  },
  {
   "cell_type": "markdown",
   "id": "b78a80df",
   "metadata": {},
   "source": [
    "# Plotting of the dataset"
   ]
  },
  {
   "cell_type": "code",
   "execution_count": null,
   "id": "6bef4328",
   "metadata": {},
   "outputs": [],
   "source": [
    "m,n = X.shape[0],X.shape[1]\n",
    "pos,neg= (y==1).reshape(m,1), (y==0).reshape(m,1)\n",
    "plt.scatter(X[pos[:,0],0],X[pos[:,0],1],c=\"r\",marker=\"+\",s=50)\n",
    "plt.scatter(X[neg[:,0],0],X[neg[:,0],1],c=\"y\",marker=\"o\",s=50)"
   ]
  },
  {
   "cell_type": "markdown",
   "id": "9b90ac49",
   "metadata": {},
   "source": [
    "We start off with a simple dataset that has a clear linear boundary between the training examples.\n",
    "\n",
    "As recommended in the lecture, we try not to code SVM from scratch but instead, make use of highly optimized library such as sklearn for this assignment."
   ]
  },
  {
   "cell_type": "code",
   "execution_count": null,
   "id": "9463310b",
   "metadata": {},
   "outputs": [],
   "source": [
    "from sklearn.svm import SVC\n",
    "classifier = SVC(kernel=\"linear\")\n",
    "classifier.fit(X,np.ravel(y))"
   ]
  },
  {
   "cell_type": "markdown",
   "id": "c629f7ac",
   "metadata": {},
   "source": [
    "Since this is a linear classification problem, we will not be using any kernel for this task. This is equivalent to using the linear kernel in SVC (note that the default kernel setting for SVC is “ rbf”, which stands for Radial basis function). The ravel() function here returns an array with size (m, ) which is required for SVC."
   ]
  },
  {
   "cell_type": "code",
   "execution_count": null,
   "id": "c7770c9a",
   "metadata": {},
   "outputs": [],
   "source": [
    "plt.figure(figsize=(8,6))\n",
    "plt.scatter(X[pos[:,0],0],X[pos[:,0],1],c=\"r\",marker=\"+\",s=50)\n",
    "plt.scatter(X[neg[:,0],0],X[neg[:,0],1],c=\"y\",marker=\"o\",s=50)\n",
    "# plotting the decision boundary\n",
    "X_1,X_2 = np.meshgrid(np.linspace(X[:,0].min(),X[:,1].max(),num=100),np.linspace(X[:,1].min(),X[:,1].max(),num=100))\n",
    "plt.contour(X_1,X_2,classifier.predict(np.array([X_1.ravel(),X_2.ravel()]).T).reshape(X_1.shape),1,colors=\"b\")\n",
    "plt.xlim(0,4.5)\n",
    "plt.ylim(1.5,5)"
   ]
  },
  {
   "cell_type": "markdown",
   "id": "d6c4d028",
   "metadata": {},
   "source": [
    "With the default setting of C = 1.0 (remember C = 1/λ), this is the decision boundary we obtained."
   ]
  },
  {
   "cell_type": "code",
   "execution_count": null,
   "id": "cc3dc761",
   "metadata": {},
   "outputs": [],
   "source": [
    "# Test C = 100\n",
    "classifier2 = SVC(C=100,kernel=\"linear\")\n",
    "classifier2.fit(X,np.ravel(y))"
   ]
  },
  {
   "cell_type": "code",
   "execution_count": null,
   "id": "7d31259c",
   "metadata": {},
   "outputs": [],
   "source": [
    "plt.figure(figsize=(8,6))\n",
    "plt.scatter(X[pos[:,0],0],X[pos[:,0],1],c=\"r\",marker=\"+\",s=50)\n",
    "plt.scatter(X[neg[:,0],0],X[neg[:,0],1],c=\"y\",marker=\"o\",s=50)\n",
    "# plotting the decision boundary\n",
    "X_3,X_4 = np.meshgrid(np.linspace(X[:,0].min(),X[:,1].max(),num=100),np.linspace(X[:,1].min(),X[:,1].max(),num=100))\n",
    "plt.contour(X_3,X_4,classifier2.predict(np.array([X_3.ravel(),X_4.ravel()]).T).reshape(X_3.shape),1,colors=\"b\")\n",
    "plt.xlim(0,4.5)\n",
    "plt.ylim(1.5,5)"
   ]
  },
  {
   "cell_type": "markdown",
   "id": "b268c370",
   "metadata": {},
   "source": [
    "Changing C=100, gave a decision boundary that overfits the training examples.\n",
    "\n",
    "Next, we will look at a dataset that could not be linearly separable. Here is where kernels come into play to provide us with the functionality of a non-linear classifier. For those having difficulties comprehending the concept of kernels, this article I found gave a pretty good intuition and some mathematics explanation about kernels. For this part of the assignment, we were required to complete the function gaussianKernel to aid in the implementation of SVM with Gaussian kernels. I will be skipping this step as SVC contain its own gaussian kernels implementation in the form of Radial basis function (rbf). Here is the Wikipedia page with the equation for rbf, as you can see, it is identical to the Gaussian kernel function from the course.\n",
    "\n",
    "Loading and plotting of example dataset 2"
   ]
  },
  {
   "cell_type": "code",
   "execution_count": null,
   "id": "3c61e69f",
   "metadata": {},
   "outputs": [],
   "source": [
    "mat2 = loadmat(\"ex6data2.mat\")\n",
    "X2 = mat2[\"X\"]\n",
    "y2 = mat2[\"y\"]\n",
    "m2,n2 = X2.shape[0],X2.shape[1]\n",
    "pos2,neg2= (y2==1).reshape(m2,1), (y2==0).reshape(m2,1)\n",
    "plt.figure(figsize=(8,6))\n",
    "plt.scatter(X2[pos2[:,0],0],X2[pos2[:,0],1],c=\"r\",marker=\"+\")\n",
    "plt.scatter(X2[neg2[:,0],0],X2[neg2[:,0],1],c=\"y\",marker=\"o\")\n",
    "plt.xlim(0,1)\n",
    "plt.ylim(0.4,1)"
   ]
  },
  {
   "cell_type": "markdown",
   "id": "1df388c4",
   "metadata": {},
   "source": [
    "# To implement SVM with Gaussian kernels"
   ]
  },
  {
   "cell_type": "code",
   "execution_count": null,
   "id": "0919ed1b",
   "metadata": {},
   "outputs": [],
   "source": [
    "classifier3 = SVC(kernel=\"rbf\",gamma=30)\n",
    "classifier3.fit(X2,y2.ravel())"
   ]
  },
  {
   "cell_type": "markdown",
   "id": "4aef0ea1",
   "metadata": {},
   "source": [
    "In regards to the parameters of SVM with rbf kernel, it uses gamma instead of sigma. The documentation of the parameters can be found here. I found that gamma is similar to 1/σ but not exactly, I hope some domain expert can give me insights into the interpretation of this gamma term. As for this dataset, I found that gamma value of 30 shows the most resemblance to the optimized parameters in the assignment (sigma was 0.1 in the course)."
   ]
  },
  {
   "cell_type": "code",
   "execution_count": null,
   "id": "96d57b37",
   "metadata": {},
   "outputs": [],
   "source": [
    "plt.figure(figsize=(8,6))\n",
    "plt.scatter(X2[pos2[:,0],0],X2[pos2[:,0],1],c=\"r\",marker=\"+\")\n",
    "plt.scatter(X2[neg2[:,0],0],X2[neg2[:,0],1],c=\"y\",marker=\"o\")\n",
    "# plotting the decision boundary\n",
    "X_5,X_6 = np.meshgrid(np.linspace(X2[:,0].min(),X2[:,1].max(),num=100),np.linspace(X2[:,1].min(),X2[:,1].max(),num=100))\n",
    "plt.contour(X_5,X_6,classifier3.predict(np.array([X_5.ravel(),X_6.ravel()]).T).reshape(X_5.shape),1,colors=\"b\")\n",
    "plt.xlim(0,1)\n",
    "plt.ylim(0.4,1)\n"
   ]
  },
  {
   "cell_type": "markdown",
   "id": "a3cc4fab",
   "metadata": {},
   "source": [
    "As for the last dataset in this part, we perform a simple hyperparameter tuning to determine the best C and gamma values to use.\n",
    "\n",
    "Loading and plotting of examples dataset 3"
   ]
  },
  {
   "cell_type": "code",
   "execution_count": null,
   "id": "db0b89a0",
   "metadata": {},
   "outputs": [],
   "source": [
    "mat3 = loadmat(\"ex6data3.mat\")\n",
    "X3 = mat3[\"X\"]\n",
    "y3 = mat3[\"y\"]\n",
    "Xval = mat3[\"Xval\"]\n",
    "yval = mat3[\"yval\"]\n",
    "m3,n3 = X3.shape[0],X3.shape[1]\n",
    "pos3,neg3= (y3==1).reshape(m3,1), (y3==0).reshape(m3,1)\n",
    "plt.figure(figsize=(8,6))\n",
    "plt.scatter(X3[pos3[:,0],0],X3[pos3[:,0],1],c=\"r\",marker=\"+\",s=50)\n",
    "plt.scatter(X3[neg3[:,0],0],X3[neg3[:,0],1],c=\"y\",marker=\"o\",s=50)"
   ]
  },
  {
   "cell_type": "code",
   "execution_count": null,
   "id": "3057b259",
   "metadata": {},
   "outputs": [],
   "source": [
    "def dataset3Params(X, y, Xval, yval,vals):\n",
    "    \"\"\"\n",
    "    Returns your choice of C and sigma. You should complete this function to return the optimal C and \n",
    "    sigma based on a cross-validation set.\n",
    "    \"\"\"\n",
    "    acc = 0\n",
    "    best_c=0\n",
    "    best_gamma=0\n",
    "    for i in vals:\n",
    "        C= i\n",
    "        for j in vals:\n",
    "            gamma = 1/j\n",
    "            classifier = SVC(C=C,gamma=gamma)\n",
    "            classifier.fit(X,y)\n",
    "            prediction = classifier.predict(Xval)\n",
    "            score = classifier.score(Xval,yval)\n",
    "            if score>acc:\n",
    "                acc =score\n",
    "                best_c =C\n",
    "                best_gamma=gamma\n",
    "    return best_c, best_gamma"
   ]
  },
  {
   "cell_type": "markdown",
   "id": "6b3e199a",
   "metadata": {},
   "source": [
    "dataset3Params iterates through the list of vals given in the function and set C as vals and gamma as 1/vals. An SVC model is constructed using each combination of parameters and the accuracy of the validation set is computed. Based on the accuracy, the best model is chosen and the values for the respective C and gamma are returned."
   ]
  },
  {
   "cell_type": "code",
   "execution_count": null,
   "id": "e6dde0e7",
   "metadata": {},
   "outputs": [],
   "source": [
    "vals = [0.01, 0.03, 0.1, 0.3, 1, 3, 10, 30]\n",
    "C, gamma = dataset3Params(X3, y3.ravel(), Xval, yval.ravel(),vals)\n",
    "classifier4 = SVC(C=C,gamma=gamma)\n",
    "classifier4.fit(X3,y3.ravel())"
   ]
  },
  {
   "cell_type": "code",
   "execution_count": null,
   "id": "3dfa5dad",
   "metadata": {},
   "outputs": [],
   "source": [
    "plt.figure(figsize=(8,6))\n",
    "plt.scatter(X3[pos3[:,0],0],X3[pos3[:,0],1],c=\"r\",marker=\"+\",s=50)\n",
    "plt.scatter(X3[neg3[:,0],0],X3[neg3[:,0],1],c=\"y\",marker=\"o\",s=50)\n",
    "# plotting the decision boundary\n",
    "X_7,X_8 = np.meshgrid(np.linspace(X3[:,0].min(),X3[:,1].max(),num=100),np.linspace(X3[:,1].min(),X3[:,1].max(),num=100))\n",
    "plt.contour(X_7,X_8,classifier4.predict(np.array([X_7.ravel(),X_8.ravel()]).T).reshape(X_7.shape),1,colors=\"b\")\n",
    "plt.xlim(-0.6,0.3)\n",
    "plt.ylim(-0.7,0.5)"
   ]
  },
  {
   "cell_type": "markdown",
   "id": "34f5c542",
   "metadata": {},
   "source": [
    "The optimal values are 0.3 for C and 100 for gamma, this results in similar decision boundary as the assginment.\n",
    "\n",
    "Moving on to spam email classification. This problem is unique as it focuses more on data preprocessing than the actual modeling process. The emails need to process in a way that that could be used as input for the model. One way of doing so is to obtain the indices of all the words in an email based on a list of commonly used vocabulary."
   ]
  },
  {
   "cell_type": "code",
   "execution_count": null,
   "id": "87c9a0a7",
   "metadata": {},
   "outputs": [],
   "source": [
    "import re\n",
    "from nltk.stem import PorterStemmer\n",
    "file_contents = open(\"emailSample1.txt\",\"r\").read()\n",
    "vocabList = open(\"vocab.txt\",\"r\").read()"
   ]
  },
  {
   "cell_type": "markdown",
   "id": "96eaefe9",
   "metadata": {},
   "source": [
    "Vocabulary list and its respective indices were given, I had stored the list as a dictionary with the vocabs as keys and indices as values. You could probably do it another way but I want to make accessing the vocabs easier (eg. with if keys in dict)"
   ]
  },
  {
   "cell_type": "code",
   "execution_count": null,
   "id": "37f00f47",
   "metadata": {},
   "outputs": [],
   "source": [
    "vocabList=vocabList.split(\"\\n\")[:-1]\n",
    "vocabList_d={}\n",
    "for ea in vocabList:\n",
    "    value,key = ea.split(\"\\t\")[:]\n",
    "    vocabList_d[key] = value"
   ]
  },
  {
   "cell_type": "markdown",
   "id": "bcdd10d6",
   "metadata": {},
   "source": [
    "As for preprocessing the emails, several steps were outlined for us in the assignment."
   ]
  },
  {
   "cell_type": "code",
   "execution_count": null,
   "id": "524fd08c",
   "metadata": {},
   "outputs": [],
   "source": [
    "def processEmail(email_contents,vocabList_d):\n",
    "    \"\"\"\n",
    "    Preprocesses the body of an email and returns a list of indices of the words contained in the email. \n",
    "    \"\"\"\n",
    "    # Lower case\n",
    "    email_contents = email_contents.lower()\n",
    "    \n",
    "    # Handle numbers\n",
    "    email_contents = re.sub(\"[0-9]+\",\"number\",email_contents)\n",
    "    \n",
    "    # Handle URLS\n",
    "    email_contents = re.sub(\"[http|https]://[^\\s]*\",\"httpaddr\",email_contents)\n",
    "    \n",
    "    # Handle Email Addresses\n",
    "    email_contents = re.sub(\"[^\\s]+@[^\\s]+\",\"emailaddr\",email_contents)\n",
    "    \n",
    "    # Handle $ sign\n",
    "    email_contents = re.sub(\"[$]+\",\"dollar\",email_contents)\n",
    "    \n",
    "    # Strip all special characters\n",
    "    specialChar = [\"<\",\"[\",\"^\",\">\",\"+\",\"?\",\"!\",\"'\",\".\",\",\",\":\"]\n",
    "    for char in specialChar:\n",
    "        email_contents = email_contents.replace(str(char),\"\")\n",
    "    email_contents = email_contents.replace(\"\\n\",\" \")    \n",
    "    \n",
    "    # Stem the word\n",
    "    ps = PorterStemmer()\n",
    "    email_contents = [ps.stem(token) for token in email_contents.split(\" \")]\n",
    "    email_contents= \" \".join(email_contents)\n",
    "    \n",
    "    # Process the email and return word_indices\n",
    "    \n",
    "    word_indices=[]\n",
    "    \n",
    "    for char in email_contents.split():\n",
    "        if len(char) >1 and char in vocabList_d:\n",
    "            word_indices.append(int(vocabList_d[char]))\n",
    "    \n",
    "    return word_indices\n",
    "word_indices= processEmail(file_contents,vocabList_d)"
   ]
  },
  {
   "cell_type": "markdown",
   "id": "bf1f9168",
   "metadata": {},
   "source": [
    "The use of regular expression comes in very handy here, this tutorial by python guru can help you get started on re. The other useful library here is nlkt where the PorterStemmer() function helps with stemming the words. Another good tutorial here, this time by pythonprogramming.net.\n",
    "\n",
    "After getting the indices of the words, we need to convert the indices into a features vector."
   ]
  },
  {
   "cell_type": "code",
   "execution_count": null,
   "id": "f4553fc1",
   "metadata": {},
   "outputs": [],
   "source": [
    "def emailFeatures(word_indices, vocabList_d):\n",
    "    \"\"\"\n",
    "    Takes in a word_indices vector and  produces a feature vector from the word indices. \n",
    "    \"\"\"\n",
    "    n = len(vocabList_d)\n",
    "    \n",
    "    features = np.zeros((n,1))\n",
    "    \n",
    "    for i in word_indices:\n",
    "        features[i] =1\n",
    "        \n",
    "    return features\n",
    "features = emailFeatures(word_indices,vocabList_d)\n",
    "print(\"Length of feature vector: \",len(features))\n",
    "print(\"Number of non-zero entries: \",np.sum(features))"
   ]
  },
  {
   "cell_type": "markdown",
   "id": "3ab14c61",
   "metadata": {},
   "source": [
    "The print statement will print: Length of feature vector: 1899 and Number of non-zero entries: 43.0 . This is slightly different from the assignment as you’re was captured as “you” and “re” in the assignment while my code identified it as “your”, resulting in lesser non-zero entries.\n",
    "\n",
    "To train the SVM will be as simple as passing the features as input. However, this is only one training example and we will need more training data to train a classifier."
   ]
  },
  {
   "cell_type": "code",
   "execution_count": null,
   "id": "4a0e1330",
   "metadata": {},
   "outputs": [],
   "source": [
    "spam_mat = loadmat(\"spamTrain.mat\")\n",
    "X_train =spam_mat[\"X\"]\n",
    "y_train = spam_mat[\"y\"]"
   ]
  },
  {
   "cell_type": "markdown",
   "id": "f83b2760",
   "metadata": {},
   "source": [
    "Training examples are given in spamTrain.mat to train our classifier while test examples are in spamTest.mat to determine our model generalizability."
   ]
  },
  {
   "cell_type": "code",
   "execution_count": null,
   "id": "0af7fef8",
   "metadata": {},
   "outputs": [],
   "source": [
    "C =0.1\n",
    "spam_svc = SVC(C=0.1,kernel =\"linear\")\n",
    "spam_svc.fit(X_train,y_train.ravel())\n",
    "print(\"Training Accuracy:\",(spam_svc.score(X_train,y_train.ravel()))*100,\"%\")"
   ]
  },
  {
   "cell_type": "code",
   "execution_count": null,
   "id": "d98de766",
   "metadata": {},
   "outputs": [],
   "source": [
    "spam_mat_test = loadmat(\"spamTest.mat\")\n",
    "X_test = spam_mat_test[\"Xtest\"]\n",
    "y_test =spam_mat_test[\"ytest\"]\n",
    "spam_svc.predict(X_test)\n",
    "print(\"Test Accuracy:\",(spam_svc.score(X_test,y_test.ravel()))*100,\"%\")"
   ]
  },
  {
   "cell_type": "markdown",
   "id": "32ebe5ab",
   "metadata": {},
   "source": [
    "To better understand our model, we could look at the weights of each word and figure out the words that are most predictive of a spam email."
   ]
  },
  {
   "cell_type": "code",
   "execution_count": null,
   "id": "75f056bf",
   "metadata": {},
   "outputs": [],
   "source": [
    "weights = spam_svc.coef_[0]\n",
    "weights_col = np.hstack((np.arange(1,1900).reshape(1899,1),weights.reshape(1899,1)))\n",
    "df = pd.DataFrame(weights_col)\n",
    "df.sort_values(by=[1],ascending = False,inplace=True)\n",
    "predictors = []\n",
    "idx=[]\n",
    "for i in df[0][:15]:\n",
    "    for keys, values in vocabList_d.items():\n",
    "        if str(int(i)) == values:\n",
    "            predictors.append(keys)\n",
    "            idx.append(int(values))\n",
    "print(\"Top predictors of spam:\")\n",
    "for _ in range(15):\n",
    "    print(predictors[_],\"\\t\\t\",round(df[1][idx[_]-1],6))"
   ]
  },
  {
   "cell_type": "markdown",
   "id": "86eb146f",
   "metadata": {},
   "source": [
    "# Unsupervised Learning\n",
    "## Clustering\n",
    "We will start by implementing the K-means algorithms. Since K-means is an iterative process that assigns trainig examples to theit closes centroids and then recomputing the centroids ,we need two functions that do just that"
   ]
  },
  {
   "cell_type": "code",
   "execution_count": null,
   "id": "76a4e80a",
   "metadata": {},
   "outputs": [],
   "source": [
    "import numpy as np\n",
    "import matplotlib.pyplot as plt\n",
    "from scipy.io import loadmat\n",
    "mat = loadmat(\"ex7data2.mat\")\n",
    "X = mat[\"X\"]"
   ]
  },
  {
   "cell_type": "markdown",
   "id": "66ce68ed",
   "metadata": {},
   "source": [
    "findClosestCentroids find the closest centroids by evaluating the distance between the training example from each centroid and assign the centroid to the training example with the smallest distance."
   ]
  },
  {
   "cell_type": "code",
   "execution_count": null,
   "id": "ea53b10f",
   "metadata": {},
   "outputs": [],
   "source": [
    "def findClosestCentroids(X, centroids):\n",
    "    \"\"\"\n",
    "    Returns the closest centroids in idx for a dataset X where each row is a single example.\n",
    "    \"\"\"\n",
    "    K = centroids.shape[0]\n",
    "    idx = np.zeros((X.shape[0],1))\n",
    "    temp = np.zeros((centroids.shape[0],1))\n",
    "    \n",
    "    for i in range(X.shape[0]):\n",
    "        for j in range(K):\n",
    "            dist = X[i,:] - centroids[j,:]\n",
    "            length = np.sum(dist**2)\n",
    "            temp[j] = length\n",
    "        idx[i] = np.argmin(temp)+1\n",
    "    return idx\n",
    "# Select an initial set of centroids\n",
    "K = 3\n",
    "initial_centroids = np.array([[3,3],[6,2],[8,5]])\n",
    "idx = findClosestCentroids(X, initial_centroids)\n",
    "print(\"Closest centroids for the first 3 examples:\\n\",idx[0:3])"
   ]
  },
  {
   "cell_type": "markdown",
   "id": "b4fe255c",
   "metadata": {},
   "source": [
    "np.argmin find the index with the smallest distance and assign it to the training example. +1 is used here to number the centroid from 1 instead of 0."
   ]
  },
  {
   "cell_type": "markdown",
   "id": "cf77969f",
   "metadata": {},
   "source": [
    "To compute the centroid means after the assignment, we sum up the training examples assigned to a particular centroid and divide by the number of examples in each centroid."
   ]
  },
  {
   "cell_type": "code",
   "execution_count": null,
   "id": "549ce472",
   "metadata": {},
   "outputs": [],
   "source": [
    "def computeCentroids(X, idx, K):\n",
    "    \"\"\"\n",
    "    returns the new centroids by computing the means of the data points assigned to each centroid.\n",
    "    \"\"\"\n",
    "    m, n = X.shape[0],X.shape[1]\n",
    "    centroids = np.zeros((K,n))\n",
    "    count = np.zeros((K,1))\n",
    "    \n",
    "    for i in range(m):\n",
    "        index = int((idx[i]-1)[0])\n",
    "        centroids[index,:]+=X[i,:]\n",
    "        count[index]+=1\n",
    "    \n",
    "    return centroids/count\n",
    "centroids = computeCentroids(X, idx, K)\n",
    "print(\"Centroids computed after initial finding of closest centroids:\\n\", centroids)"
   ]
  },
  {
   "cell_type": "markdown",
   "id": "c75f6e5c",
   "metadata": {},
   "source": [
    "Now to visualize the whole process, I created a subplot for each iteration of the algorithms to monitor the movement of the centroids and assignment of the training examples."
   ]
  },
  {
   "cell_type": "code",
   "execution_count": null,
   "id": "7a9c50b6",
   "metadata": {},
   "outputs": [],
   "source": [
    "def plotKmeans(X, centroids, idx, K, num_iters):\n",
    "    \"\"\"\n",
    "    plots the data points with colors assigned to each centroid\n",
    "    \"\"\"\n",
    "    m,n = X.shape[0],X.shape[1]\n",
    "    \n",
    "    fig, ax = plt.subplots(nrows=num_iters,ncols=1,figsize=(6,36))\n",
    "    \n",
    "    for i in range(num_iters):    \n",
    "        # Visualisation of data\n",
    "        color = \"rgb\"\n",
    "        for k in range(1,K+1):\n",
    "            grp = (idx==k).reshape(m,1)\n",
    "            ax[i].scatter(X[grp[:,0],0],X[grp[:,0],1],c=color[k-1],s=15)\n",
    "# visualize the new centroids\n",
    "        ax[i].scatter(centroids[:,0],centroids[:,1],s=120,marker=\"x\",c=\"black\",linewidth=3)\n",
    "        title = \"Iteration Number \" + str(i)\n",
    "        ax[i].set_title(title)\n",
    "        \n",
    "        # Compute the centroids mean\n",
    "        centroids = computeCentroids(X, idx, K)\n",
    "        \n",
    "        # assign each training example to the nearest centroid\n",
    "        idx = findClosestCentroids(X, centroids)\n",
    "    \n",
    "    plt.tight_layout()\n",
    "m,n = X.shape[0],X.shape[1]\n",
    "plotKmeans(X, initial_centroids,idx, K,10)"
   ]
  },
  {
   "cell_type": "markdown",
   "id": "c63a9ac0",
   "metadata": {},
   "source": [
    "Since K-means algorithms do not always give the optimal solution, random initialization is important."
   ]
  },
  {
   "cell_type": "code",
   "execution_count": null,
   "id": "9b3733f5",
   "metadata": {},
   "outputs": [],
   "source": [
    "def kMeansInitCentroids(X, K):\n",
    "    \"\"\"\n",
    "    This function initializes K centroids that are to beused in K-Means on the dataset X\n",
    "    \"\"\"\n",
    "    m,n = X.shape[0], X.shape[1]\n",
    "    centroids = np.zeros((K,n))\n",
    "    \n",
    "    for i in range(K):\n",
    "        centroids[i] = X[np.random.randint(0,m+1),:]\n",
    "        \n",
    "    return centroids\n",
    "centroids = kMeansInitCentroids(X, K)\n",
    "idx = findClosestCentroids(X, centroids)\n",
    "plotKmeans(X, centroids,idx, K,10)"
   ]
  },
  {
   "cell_type": "markdown",
   "id": "a3ec555f",
   "metadata": {},
   "source": [
    "The code above will run the visualization again but with random initialization. You can run the code multiple times to see the impact of random initial centroids.\n",
    "\n",
    "Now that we finish coding the algorithm, we can start implementing it with other datasets. In this exercise, we will use the algorithm to select 16 clusters to represent the image (down from thousands of colors) to compress the image."
   ]
  },
  {
   "cell_type": "code",
   "execution_count": null,
   "id": "47bf4c31",
   "metadata": {},
   "outputs": [],
   "source": [
    "mat2 = loadmat(\"bird_small.mat\")\n",
    "A = mat2[\"A\"]\n",
    "# preprocess and reshape the image\n",
    "X2 = (A/255).reshape(128*128,3)\n",
    "def runKmeans(X, initial_centroids,num_iters,K):\n",
    "    \n",
    "    idx = findClosestCentroids(X, initial_centroids)\n",
    "    \n",
    "    for i in range(num_iters):\n",
    "        \n",
    "        # Compute the centroids mean\n",
    "        centroids = computeCentroids(X, idx, K)\n",
    "# assign each training example to the nearest centroid\n",
    "        idx = findClosestCentroids(X, initial_centroids)\n",
    "    return centroids, idx"
   ]
  },
  {
   "cell_type": "markdown",
   "id": "37b0f435",
   "metadata": {},
   "source": [
    "Now to run k-means algorithm on the dataset"
   ]
  },
  {
   "cell_type": "code",
   "execution_count": null,
   "id": "a30defcc",
   "metadata": {},
   "outputs": [],
   "source": [
    "K2 = 16\n",
    "num_iters = 10\n",
    "initial_centroids2 = kMeansInitCentroids(X2, K2)\n",
    "centroids2, idx2 = runKmeans(X2, initial_centroids2, num_iters,K2)\n",
    "m2,n2 = X.shape[0],X.shape[1]\n",
    "X2_recovered = X2.copy()\n",
    "for i in range(1,K2+1):\n",
    "    X2_recovered[(idx2==i).ravel(),:] = centroids2[i-1]\n",
    "# Reshape the recovered image into proper dimensions\n",
    "X2_recovered = X2_recovered.reshape(128,128,3)\n",
    "# Display the image\n",
    "import matplotlib.image as mpimg\n",
    "fig, ax = plt.subplots(1,2)\n",
    "ax[0].imshow(X2.reshape(128,128,3))\n",
    "ax[1].imshow(X2_recovered)"
   ]
  },
  {
   "cell_type": "markdown",
   "id": "54124821",
   "metadata": {},
   "source": [
    "This is a side-by-side comparison of the original image and the compressed image with only 16 colors."
   ]
  },
  {
   "cell_type": "markdown",
   "id": "aabbac1f",
   "metadata": {},
   "source": [
    "# Dimensionality Reduction\n",
    "### Motivation I: Data Compression\n",
    "The next part of the assignment makes use of a 2D dataset to get intuition on the process of Principal Component Analysis (PCA) and then conduct PCA on a face image dataset to perform dimensionality reduction.\n",
    "\n",
    "Load and visualize the 2D dataset\n"
   ]
  },
  {
   "cell_type": "code",
   "execution_count": null,
   "id": "2100048e",
   "metadata": {},
   "outputs": [],
   "source": [
    "mat3 = loadmat(\"ex7data1.mat\")\n",
    "X3 = mat3[\"X\"]\n",
    "plt.scatter(X3[:,0],X3[:,1],marker=\"o\",facecolors=\"none\",edgecolors=\"b\")"
   ]
  },
  {
   "cell_type": "markdown",
   "id": "ffb56796",
   "metadata": {},
   "source": [
    "To implement the PCA algorithm, PCA also consists of two computational steps where we will code one of it to compute the covariance matrix and utilize numpy library for the other to obtain the eigenvectors.\n",
    "\n",
    "Before that, feature normalization is needed to ensure that data are in the same range."
   ]
  },
  {
   "cell_type": "code",
   "execution_count": null,
   "id": "c4792273",
   "metadata": {},
   "outputs": [],
   "source": [
    "def featureNormalize(X):\n",
    "    \"\"\"\n",
    "    Returns a normalized version of X where the mean value of each feature is 0 and the standard deviation is 1.\n",
    "    \"\"\"\n",
    "    mu = np.mean(X,axis=0)\n",
    "    sigma = np.std(X,axis=0)\n",
    "    \n",
    "    X_norm = (X - mu)/sigma\n",
    "    \n",
    "    return X_norm, mu , sigma\n",
    "def pca(X):\n",
    "    \"\"\"\n",
    "    Computes eigenvectors of the covariance matrix of X\n",
    "    \"\"\"\n",
    "    m,n = X.shape[0], X.shape[1]\n",
    "    \n",
    "    sigma = 1/m * X.T @ X\n",
    "    \n",
    "    U,S,V = svd(sigma)\n",
    "    \n",
    "    return U,S,V"
   ]
  },
  {
   "cell_type": "markdown",
   "id": "857e21bc",
   "metadata": {},
   "source": [
    "np.linalg.svd is similar to svd function in matlab and return the same U,S,V matrices. The official documentation can be found here."
   ]
  },
  {
   "cell_type": "code",
   "execution_count": null,
   "id": "0e56026d",
   "metadata": {},
   "outputs": [],
   "source": [
    "from numpy.linalg import svd\n",
    "X_norm,mu,std = featureNormalize(X3)\n",
    "U,S = pca(X_norm)[:2]\n",
    "plt.scatter(X3[:,0],X3[:,1],marker=\"o\",facecolors=\"none\",edgecolors=\"b\")\n",
    "plt.plot([mu[0],(mu+1.5*S[0]*U[:,0].T)[0]],[mu[1],(mu+1.5*S[0]*U[:,0].T)[1]],color=\"black\",linewidth=3)\n",
    "plt.plot([mu[0],(mu+1.5*S[1]*U[:,1].T)[0]],[mu[1],(mu+1.5*S[1]*U[:,1].T)[1]],color=\"black\",linewidth=3)\n",
    "plt.xlim(-1,7)\n",
    "plt.ylim(2,8)"
   ]
  },
  {
   "cell_type": "markdown",
   "id": "c4803554",
   "metadata": {},
   "source": [
    "The code block above implement PCA on the dataset and visualize the eigenvectors on the data. I found that Wikipedia has a good source of information for most of the learning algorithms and definitely worth looking if you wish to delve deeper into the algorithms."
   ]
  },
  {
   "cell_type": "code",
   "execution_count": null,
   "id": "6c1dead1",
   "metadata": {},
   "outputs": [],
   "source": [
    "print(\"Top eigenvector U(:,1) =:\",U[:,0])"
   ]
  },
  {
   "cell_type": "markdown",
   "id": "79d223b9",
   "metadata": {},
   "source": [
    "To reduce the dimension of the dataset, we project the data onto the principal components (eigenvectors) found."
   ]
  },
  {
   "cell_type": "code",
   "execution_count": null,
   "id": "04260d3a",
   "metadata": {},
   "outputs": [],
   "source": [
    "def projectData(X, U, K):\n",
    "    \"\"\"\n",
    "    Computes the reduced data representation when projecting only on to the top k eigenvectors\n",
    "    \"\"\"\n",
    "    m = X.shape[0]\n",
    "    U_reduced = U[:,:K]\n",
    "    Z = np.zeros((m,K))\n",
    "    \n",
    "    for i in range(m):\n",
    "        for j in range(K):\n",
    "            Z[i,j] = X[i,:] @ U_reduced[:,j]\n",
    "    \n",
    "    return Z\n",
    "# Project the data onto K=1 dimension\n",
    "K=1\n",
    "Z = projectData(X_norm, U, K)\n",
    "print(\"Projection of the first example:\",Z[0][0])"
   ]
  },
  {
   "cell_type": "markdown",
   "id": "5cb6cf98",
   "metadata": {},
   "source": [
    "The print statement will print: Projection of the first example: 1.4963126084578515\n",
    "\n",
    "Data also can be approximately reconstructed by projecting them back onto the original dimension space."
   ]
  },
  {
   "cell_type": "code",
   "execution_count": null,
   "id": "7ec79dca",
   "metadata": {},
   "outputs": [],
   "source": [
    "def recoverData(Z, U, K):\n",
    "    \"\"\"\n",
    "    Recovers an approximation of the original data when using the projected data\n",
    "    \"\"\"\n",
    "    m,n = Z.shape[0],U.shape[0]\n",
    "    X_rec = np.zeros((m,n))\n",
    "    U_reduced = U[:,:K]\n",
    "    \n",
    "    for i in range(m):\n",
    "        X_rec[i,:] = Z[i,:] @ U_reduced.T\n",
    "    \n",
    "    return X_rec\n",
    "X_rec  = recoverData(Z, U, K)\n",
    "print(\"Approximation of the first example:\",X_rec[0,:])"
   ]
  },
  {
   "cell_type": "markdown",
   "id": "137f38c4",
   "metadata": {},
   "source": [
    "The print statement will print: Approximation of the first example: [-1.05805279 -1.05805279]\n",
    "\n",
    "To visualize the whole process,"
   ]
  },
  {
   "cell_type": "code",
   "execution_count": null,
   "id": "657ef928",
   "metadata": {},
   "outputs": [],
   "source": [
    "plt.scatter(X_norm[:,0],X_norm[:,1],marker=\"o\",label=\"Original\",facecolors=\"none\",edgecolors=\"b\",s=15)\n",
    "plt.scatter(X_rec[:,0],X_rec[:,1],marker=\"o\",label=\"Approximation\",facecolors=\"none\",edgecolors=\"r\",s=15)\n",
    "plt.title(\"The Normalized and Projected Data after PCA\")\n",
    "plt.legend()"
   ]
  },
  {
   "cell_type": "markdown",
   "id": "ce67cf7d",
   "metadata": {},
   "source": [
    "Finally, we move on to a more complex dataset — Face image dataset. To load and visualize the data,"
   ]
  },
  {
   "cell_type": "code",
   "execution_count": null,
   "id": "45438c37",
   "metadata": {},
   "outputs": [],
   "source": [
    "mat4 = loadmat(\"ex7faces.mat\")\n",
    "X4 = mat4[\"X\"]\n",
    "fig, ax = plt.subplots(nrows=10,ncols=10,figsize=(8,8))\n",
    "for i in range(0,100,10):\n",
    "    for j in range(10):\n",
    "        ax[int(i/10),j].imshow(X4[i+j,:].reshape(32,32,order=\"F\"),cmap=\"gray\")\n",
    "        ax[int(i/10),j].axis(\"off\")"
   ]
  },
  {
   "cell_type": "markdown",
   "id": "1475e5b9",
   "metadata": {},
   "source": [
    "These images contain 32 X 32 pixels in grayscale, resulting in a dimension of 1,024 features and our task is to reduce the dimension to around 100 principal components that best describe our data."
   ]
  },
  {
   "cell_type": "code",
   "execution_count": null,
   "id": "3ee9d2f0",
   "metadata": {},
   "outputs": [],
   "source": [
    "X_norm2 = featureNormalize(X4)[0]\n",
    "# Run PCA\n",
    "U2 =pca(X_norm2)[0]\n",
    "#Visualize the top 36 eigenvectors found\n",
    "U_reduced = U2[:,:36].T\n",
    "fig2, ax2 = plt.subplots(6,6,figsize=(8,8))\n",
    "for i in range(0,36,6):\n",
    "    for j in range(6):\n",
    "        ax2[int(i/6),j].imshow(U_reduced[i+j,:].reshape(32,32,order=\"F\"),cmap=\"gray\")\n",
    "        ax2[int(i/6),j].axis(\"off\")"
   ]
  },
  {
   "cell_type": "markdown",
   "id": "b3d019ff",
   "metadata": {},
   "source": [
    "Above is the visualization of 36 principal components that describe the largest variations in the dataset.\n",
    "\n",
    "Next, we project the data onto the first 100 principal components, effectively reduce the dimension down to a hundred, recover the data and try to understand what is lost in the dimension reduction process."
   ]
  },
  {
   "cell_type": "code",
   "execution_count": null,
   "id": "eeb3f740",
   "metadata": {},
   "outputs": [],
   "source": [
    "K2 = 100\n",
    "Z2 = projectData(X_norm2, U2, K2)\n",
    "print(\"The projected data Z has a size of:\",Z2.shape)\n",
    "# Data reconstruction\n",
    "X_rec2  = recoverData(Z2, U2, K2)\n",
    "# Visualize the reconstructed data\n",
    "fig3, ax3 = plt.subplots(10,10,figsize=(8,8))\n",
    "for i in range(0,100,10):\n",
    "    for j in range(10):\n",
    "        ax3[int(i/10),j].imshow(X_rec2[i+j,:].reshape(32,32,order=\"F\"),cmap=\"gray\")\n",
    "        ax3[int(i/10),j].axis(\"off\")"
   ]
  },
  {
   "cell_type": "markdown",
   "id": "4fc5c77f",
   "metadata": {},
   "source": [
    "# Anomaly Detection\n",
    "In this part of the assignment, we will implement an anomaly detection algorithm using the Gaussian model to detect anomalous behavior in a 2D dataset first and then a high-dimensional dataset."
   ]
  },
  {
   "cell_type": "code",
   "execution_count": null,
   "id": "4a27251a",
   "metadata": {},
   "outputs": [],
   "source": [
    "import numpy as np\n",
    "import matplotlib.pyplot as plt\n",
    "from scipy.io import loadmat\n",
    "mat = loadmat(\"ex8data1.mat\")\n",
    "X = mat[\"X\"]\n",
    "Xval = mat[\"Xval\"]\n",
    "yval = mat[\"yval\"]"
   ]
  },
  {
   "cell_type": "code",
   "execution_count": null,
   "id": "f5a63592",
   "metadata": {},
   "outputs": [],
   "source": [
    "plt.scatter(X[:,0],X[:,1],marker=\"x\")\n",
    "plt.xlim(0,30)\n",
    "plt.ylim(0,30)\n",
    "# plt.xlabel(\"Latency (ms)\")\n",
    "# plt.ylabel(\"Throughput (mb/s)\")"
   ]
  },
  {
   "cell_type": "markdown",
   "id": "e7d0a936",
   "metadata": {},
   "source": [
    "# To estimate parameters (mean and variance) for the Gaussian model"
   ]
  },
  {
   "cell_type": "code",
   "execution_count": null,
   "id": "4a1f5c3d",
   "metadata": {},
   "outputs": [],
   "source": [
    "def estimateGaussian(X):\n",
    "    \"\"\"\n",
    "     This function estimates the parameters of a Gaussian distribution using the data in X\n",
    "    \"\"\"\n",
    "    \n",
    "    m = X.shape[0]\n",
    "    \n",
    "    #compute mean\n",
    "    sum_ = np.sum(X,axis=0)\n",
    "    mu = 1/m *sum_\n",
    "    \n",
    "    # compute variance\n",
    "    var = 1/m * np.sum((X - mu)**2,axis=0)\n",
    "    \n",
    "    return mu,var\n",
    "mu, sigma2 = estimateGaussian(X)"
   ]
  },
  {
   "cell_type": "markdown",
   "id": "17e47368",
   "metadata": {},
   "source": [
    "Multivariate Gaussian Distribution is an optional lecture in the course and the code to compute the probability density is given to us. However, in order for me to proceed on with the assignment, I need to write the multivariateGaussian function from scratch."
   ]
  },
  {
   "cell_type": "code",
   "execution_count": null,
   "id": "2c343eed",
   "metadata": {},
   "outputs": [],
   "source": [
    "def multivariateGaussian(X, mu, sigma2):\n",
    "    \"\"\"\n",
    "    Computes the probability density function of the multivariate gaussian distribution.\n",
    "    \"\"\"\n",
    "    k = len(mu)\n",
    "    \n",
    "    sigma2=np.diag(sigma2)\n",
    "    X = X - mu.T\n",
    "    p = 1/((2*np.pi)**(k/2)*(np.linalg.det(sigma2)**0.5))* np.exp(-0.5* np.sum(X @ np.linalg.pinv(sigma2) * X,axis=1))\n",
    "    return p\n",
    "p = multivariateGaussian(X, mu, sigma2)"
   ]
  },
  {
   "cell_type": "markdown",
   "id": "d85538df",
   "metadata": {},
   "source": [
    "Some of the interesting functions we had utilized here are from numpy linear algebra class. The official documentation can be found here.\n",
    "\n",
    "Once we estimate the Gaussian parameters and obtain the probability density of the data, we can visualize the fit."
   ]
  },
  {
   "cell_type": "code",
   "execution_count": null,
   "id": "19eff222",
   "metadata": {},
   "outputs": [],
   "source": [
    "plt.figure(figsize=(8,6))\n",
    "plt.scatter(X[:,0],X[:,1],marker=\"x\")\n",
    "X1,X2 = np.meshgrid(np.linspace(0,35,num=70),np.linspace(0,35,num=70))\n",
    "p2 = multivariateGaussian(np.hstack((X1.flatten()[:,np.newaxis],X2.flatten()[:,np.newaxis])), mu, sigma2)\n",
    "contour_level = 10**np.array([np.arange(-20,0,3,dtype=np.float)]).T\n",
    "plt.contour(X1,X2,p2[:,np.newaxis].reshape(X1.shape),contour_level)\n",
    "plt.xlim(0,35)\n",
    "plt.ylim(0,35)\n",
    "plt.xlabel(\"Latency (ms)\")\n",
    "plt.ylabel(\"Throughput (mb/s)\")"
   ]
  },
  {
   "cell_type": "markdown",
   "id": "6b9b7bd6",
   "metadata": {},
   "source": [
    "I had not explained the process of creating a contour plot before as most are quite straight forward. If you have difficulties following along, this article here might help. In simpler terms, we first create a meshgrid around the data region and compute the Z-axis. plt.contour then create the contour plot using the 3 axes (X, Y, Z)."
   ]
  },
  {
   "cell_type": "markdown",
   "id": "045c85d9",
   "metadata": {},
   "source": [
    "# Now to select a threshold that will flag an example as anomalies."
   ]
  },
  {
   "cell_type": "code",
   "execution_count": null,
   "id": "9154634d",
   "metadata": {},
   "outputs": [],
   "source": [
    "def selectThreshold(yval, pval):\n",
    "    \"\"\"\n",
    "    Find the best threshold (epsilon) to use for selecting outliers\n",
    "    \"\"\"\n",
    "    best_epi = 0\n",
    "    best_F1 = 0\n",
    "    \n",
    "    stepsize = (max(pval) -min(pval))/1000\n",
    "    epi_range = np.arange(pval.min(),pval.max(),stepsize)\n",
    "    for epi in epi_range:\n",
    "        predictions = (pval<epi)[:,np.newaxis]\n",
    "        tp = np.sum(predictions[yval==1]==1)\n",
    "        fp = np.sum(predictions[yval==0]==1)\n",
    "        fn = np.sum(predictions[yval==1]==0)\n",
    "        \n",
    "        # compute precision, recall and F1\n",
    "        prec = tp/(tp+fp)\n",
    "        rec = tp/(tp+fn)\n",
    "        \n",
    "        F1 = (2*prec*rec)/(prec+rec)\n",
    "        \n",
    "        if F1 > best_F1:\n",
    "            best_F1 =F1\n",
    "            best_epi = epi\n",
    "        \n",
    "    return best_epi, best_F1\n",
    "pval = multivariateGaussian(Xval, mu, sigma2)\n",
    "epsilon, F1 = selectThreshold(yval, pval)\n",
    "print(\"Best epsilon found using cross-validation:\",epsilon)\n",
    "print(\"Best F1 on Cross Validation Set:\",F1)"
   ]
  },
  {
   "cell_type": "markdown",
   "id": "ecc1cfe6",
   "metadata": {},
   "source": [
    "In case you have not noticed, F1 score is used here instead of accuracy as the dataset is highly unbalanced. To learn more about the various way to evaluate a machine learning’s model performance, this article sums up the topic quite well.\n",
    "\n",
    "Visualizing the optimal threshold"
   ]
  },
  {
   "cell_type": "code",
   "execution_count": null,
   "id": "5debf22b",
   "metadata": {},
   "outputs": [],
   "source": [
    "plt.figure(figsize=(8,6))\n",
    "# plot the data\n",
    "plt.scatter(X[:,0],X[:,1],marker=\"x\")\n",
    "# potting of contour\n",
    "X1,X2 = np.meshgrid(np.linspace(0,35,num=70),np.linspace(0,35,num=70))\n",
    "p2 = multivariateGaussian(np.hstack((X1.flatten()[:,np.newaxis],X2.flatten()[:,np.newaxis])), mu, sigma2)\n",
    "contour_level = 10**np.array([np.arange(-20,0,3,dtype=np.float)]).T\n",
    "plt.contour(X1,X2,p2[:,np.newaxis].reshape(X1.shape),contour_level)\n",
    "# Circling of anomalies\n",
    "outliers = np.nonzero(p<epsilon)[0]\n",
    "plt.scatter(X[outliers,0],X[outliers,1],marker =\"o\",facecolor=\"none\",edgecolor=\"r\",s=70)\n",
    "plt.xlim(0,35)\n",
    "plt.ylim(0,35)\n",
    "plt.xlabel(\"Latency (ms)\")\n",
    "plt.ylabel(\"Throughput (mb/s)\")"
   ]
  },
  {
   "cell_type": "markdown",
   "id": "e8770c5d",
   "metadata": {},
   "source": [
    "As for high dimensional dataset, we just have to follow the exact same steps as before"
   ]
  },
  {
   "cell_type": "code",
   "execution_count": null,
   "id": "358fe03a",
   "metadata": {},
   "outputs": [],
   "source": [
    "mat2 = loadmat(\"ex8data2.mat\")\n",
    "X2 = mat2[\"X\"]\n",
    "Xval2 = mat2[\"Xval\"]\n",
    "yval2 = mat2[\"yval\"]\n",
    "# compute the mean and variance\n",
    "mu2, sigma2_2 = estimateGaussian(X2)\n",
    "# Training set\n",
    "p3 = multivariateGaussian(X2, mu2, sigma2_2)\n",
    "# cross-validation set\n",
    "pval2 = multivariateGaussian(Xval2, mu2, sigma2_2)\n",
    "# Find the best threshold\n",
    "epsilon2, F1_2 = selectThreshold(yval2, pval2)\n",
    "print(\"Best epsilon found using cross-validation:\",epsilon2)\n",
    "print(\"Best F1 on Cross Validation Set:\",F1_2)\n",
    "print(\"# Outliers found:\",np.sum(p3<epsilon2))"
   ]
  },
  {
   "cell_type": "markdown",
   "id": "6d6ef6bb",
   "metadata": {},
   "source": [
    "#The second part of the assignment involved implementing a collaborative filtering algorithm to build a recommender system for movie ratings.\n",
    "\n",
    "Loading and visualization of the movie ratings dataset"
   ]
  },
  {
   "cell_type": "code",
   "execution_count": null,
   "id": "83280414",
   "metadata": {},
   "outputs": [],
   "source": [
    "mat3 = loadmat(\"ex8_movies.mat\")\n",
    "mat4 = loadmat(\"ex8_movieParams.mat\")\n",
    "Y = mat3[\"Y\"] # 1682 X 943 matrix, containing ratings (1-5) of 1682 movies on 943 user\n",
    "R = mat3[\"R\"] # 1682 X 943 matrix, where R(i,j) = 1 if and only if user j give rating to movie i\n",
    "X = mat4[\"X\"] # 1682 X 10 matrix , num_movies X num_features matrix of movie features\n",
    "Theta = mat4[\"Theta\"] # 943 X 10 matrix, num_users X num_features matrix of user features\n",
    "# Compute average rating \n",
    "print(\"Average rating for movie 1 (Toy Story):\",np.sum(Y[0,:]*R[0,:])/np.sum(R[0,:]),\"/5\")"
   ]
  },
  {
   "cell_type": "code",
   "execution_count": null,
   "id": "2d03b08c",
   "metadata": {},
   "outputs": [],
   "source": [
    "plt.figure(figsize=(8,16))\n",
    "plt.imshow(Y)\n",
    "# plt.xlabel(\"Users\")\n",
    "# plt.ylabel(\"Movies\")"
   ]
  },
  {
   "cell_type": "markdown",
   "id": "17ee4b96",
   "metadata": {},
   "source": [
    "Going into the algorithm proper, we start with computing the cost function and gradient"
   ]
  },
  {
   "cell_type": "code",
   "execution_count": null,
   "id": "f118b666",
   "metadata": {},
   "outputs": [],
   "source": [
    "def  cofiCostFunc(params, Y, R, num_users, num_movies, num_features, Lambda):\n",
    "    \"\"\"\n",
    "    Returns the cost and gradient for the collaborative filtering problem\n",
    "    \"\"\"\n",
    "    \n",
    "    # Unfold the params\n",
    "    X = params[:num_movies*num_features].reshape(num_movies,num_features)\n",
    "    Theta = params[num_movies*num_features:].reshape(num_users,num_features)\n",
    "    \n",
    "    predictions =  X @ Theta.T\n",
    "    err = (predictions - Y)\n",
    "    J = 1/2 * np.sum((err**2) * R)\n",
    "    \n",
    "    #compute regularized cost function\n",
    "    reg_X =  Lambda/2 * np.sum(Theta**2)\n",
    "    reg_Theta = Lambda/2 *np.sum(X**2)\n",
    "    reg_J = J + reg_X + reg_Theta\n",
    "    \n",
    "    # Compute gradient\n",
    "    X_grad = err*R @ Theta\n",
    "    Theta_grad = (err*R).T @ X\n",
    "    grad = np.append(X_grad.flatten(),Theta_grad.flatten())\n",
    "    \n",
    "    # Compute regularized gradient\n",
    "    reg_X_grad = X_grad + Lambda*X\n",
    "    reg_Theta_grad = Theta_grad + Lambda*Theta\n",
    "    reg_grad = np.append(reg_X_grad.flatten(),reg_Theta_grad.flatten())\n",
    "    \n",
    "    return J, grad, reg_J, reg_grad"
   ]
  },
  {
   "cell_type": "markdown",
   "id": "cca05160",
   "metadata": {},
   "source": [
    "Similar to the previous approach, the assignment requires us to compute the cost function, gradient, regularized cost function and then regularized gradient in separate steps. The code block above will allows you to follow the assignment step by step as long as you use the correct indexing.\n",
    "\n",
    "To test our cost function,"
   ]
  },
  {
   "cell_type": "code",
   "execution_count": null,
   "id": "cf48e458",
   "metadata": {},
   "outputs": [],
   "source": [
    "# Reduce the data set size to run faster\n",
    "num_users, num_movies, num_features = 4,5,3\n",
    "X_test = X[:num_movies,:num_features]\n",
    "Theta_test= Theta[:num_users,:num_features]\n",
    "Y_test = Y[:num_movies,:num_users]\n",
    "R_test = R[:num_movies,:num_users]\n",
    "params = np.append(X_test.flatten(),Theta_test.flatten())\n",
    "# Evaluate cost function\n",
    "J, grad = cofiCostFunc(params, Y_test, R_test, num_users, num_movies, num_features, 0)[:2]\n",
    "print(\"Cost at loaded parameters:\",J)\n",
    "J2, grad2 = cofiCostFunc(params, Y_test, R_test, num_users, num_movies, num_features, 1.5)[2:]\n",
    "print(\"Cost at loaded parameters (lambda = 1.5):\",J2)"
   ]
  },
  {
   "cell_type": "markdown",
   "id": "ce82d695",
   "metadata": {},
   "source": [
    "Once we get our cost function and gradient going, we can start training our algorithm.\n",
    "\n",
    "Loading of the movie list"
   ]
  },
  {
   "cell_type": "code",
   "execution_count": null,
   "id": "de128cd5",
   "metadata": {},
   "outputs": [],
   "source": [
    "# load movie list\n",
    "movieList = open(\"movie_ids.txt\",\"r\").read().split(\"\\n\")[:-1]\n",
    "# see movie list\n",
    "np.set_printoptions(threshold=np.nan)\n",
    "movieList"
   ]
  },
  {
   "cell_type": "markdown",
   "id": "91ba7f9e",
   "metadata": {},
   "source": [
    "You can enter your own movie preference at this step but I used the exact same ratings as the assignment to keep it consistent."
   ]
  },
  {
   "cell_type": "code",
   "execution_count": null,
   "id": "84fb48b5",
   "metadata": {},
   "outputs": [],
   "source": [
    "# Initialize my ratings\n",
    "my_ratings = np.zeros((1682,1))\n",
    "# Create own ratings\n",
    "my_ratings[0] = 4 \n",
    "my_ratings[97] = 2\n",
    "my_ratings[6] = 3\n",
    "my_ratings[11]= 5\n",
    "my_ratings[53] = 4\n",
    "my_ratings[63]= 5\n",
    "my_ratings[65]= 3\n",
    "my_ratings[68] = 5\n",
    "my_ratings[82]= 4\n",
    "my_ratings[225] = 5\n",
    "my_ratings[354]= 5\n",
    "print(\"New user ratings:\\n\")\n",
    "for i in range(len(my_ratings)):\n",
    "    if my_ratings[i]>0:\n",
    "        print(\"Rated\",int(my_ratings[i]),\"for index\",movieList[i])"
   ]
  },
  {
   "cell_type": "markdown",
   "id": "4aa64825",
   "metadata": {},
   "source": [
    "To prepare our data before inputting into the algorithm, we need to normalize the ratings, set some random initial parameters, and use an optimizing algorithm to update the parameters."
   ]
  },
  {
   "cell_type": "code",
   "execution_count": null,
   "id": "36306edf",
   "metadata": {},
   "outputs": [],
   "source": [
    "def normalizeRatings(Y, R):\n",
    "    \"\"\"\n",
    "    normalized Y so that each movie has a rating of 0 on average, and returns the mean rating in Ymean.\n",
    "    \"\"\"\n",
    "    \n",
    "    m,n = Y.shape[0], Y.shape[1]\n",
    "    Ymean = np.zeros((m,1))\n",
    "    Ynorm = np.zeros((m,n))\n",
    "    \n",
    "    for i in range(m):\n",
    "        Ymean[i] = np.sum(Y[i,:])/np.count_nonzero(R[i,:])\n",
    "        Ynorm[i,R[i,:]==1] = Y[i,R[i,:]==1] - Ymean[i]\n",
    "        \n",
    "    return Ynorm, Ymean\n",
    "def gradientDescent(initial_parameters,Y,R,num_users,num_movies,num_features,alpha,num_iters,Lambda):\n",
    "    \"\"\"\n",
    "    Optimize X and Theta\n",
    "    \"\"\"\n",
    "    # unfold the parameters\n",
    "    X = initial_parameters[:num_movies*num_features].reshape(num_movies,num_features)\n",
    "    Theta = initial_parameters[num_movies*num_features:].reshape(num_users,num_features)\n",
    "    \n",
    "    J_history =[]\n",
    "    \n",
    "    for i in range(num_iters):\n",
    "        params = np.append(X.flatten(),Theta.flatten())\n",
    "        cost, grad = cofiCostFunc(params, Y, R, num_users, num_movies, num_features, Lambda)[2:]\n",
    "        \n",
    "        # unfold grad\n",
    "        X_grad = grad[:num_movies*num_features].reshape(num_movies,num_features)\n",
    "        Theta_grad = grad[num_movies*num_features:].reshape(num_users,num_features)\n",
    "        X = X - (alpha * X_grad)\n",
    "        Theta = Theta - (alpha * Theta_grad)\n",
    "        J_history.append(cost)\n",
    "    \n",
    "    paramsFinal = np.append(X.flatten(),Theta.flatten())\n",
    "    return paramsFinal , J_history"
   ]
  },
  {
   "cell_type": "markdown",
   "id": "9220fa7a",
   "metadata": {},
   "source": [
    "Once again, I chose batch gradient descent as my optimizing algorithm. One thing going through all the programming assignment in python taught me is that you would rarely go wrong with gradient descent. At this point, the code for gradient descent should be fairly familiar to you."
   ]
  },
  {
   "cell_type": "code",
   "execution_count": null,
   "id": "e661296f",
   "metadata": {},
   "outputs": [],
   "source": [
    "Y = np.hstack((my_ratings,Y))\n",
    "R =np.hstack((my_ratings!=0,R))\n",
    "# Normalize Ratings\n",
    "Ynorm, Ymean = normalizeRatings(Y, R)\n",
    "num_users = Y.shape[1]\n",
    "num_movies = Y.shape[0]\n",
    "num_features = 10\n",
    "# Set initial Parameters (Theta,X)\n",
    "X = np.random.randn(num_movies, num_features)\n",
    "Theta = np.random.randn(num_users, num_features)\n",
    "initial_parameters = np.append(X.flatten(),Theta.flatten())\n",
    "Lambda = 10\n",
    "# Optimize parameters using Gradient Descent\n",
    "paramsFinal, J_history = gradientDescent(initial_parameters,Y,R,num_users,num_movies,num_features,0.001,400,Lambda)"
   ]
  },
  {
   "cell_type": "markdown",
   "id": "dbe3ed9d",
   "metadata": {},
   "source": [
    "Plotting of cost function to ensure gradient descent is working"
   ]
  },
  {
   "cell_type": "code",
   "execution_count": null,
   "id": "51f23e46",
   "metadata": {},
   "outputs": [],
   "source": [
    "plt.plot(J_history)\n",
    "plt.xlabel(\"Iteration\")\n",
    "plt.ylabel(\"$J(\\Theta)$\")\n",
    "plt.title(\"Cost function using Gradient Descent\")"
   ]
  },
  {
   "cell_type": "markdown",
   "id": "d131584a",
   "metadata": {},
   "source": [
    "To make predictions on movies that you had not rated"
   ]
  },
  {
   "cell_type": "code",
   "execution_count": null,
   "id": "c9496880",
   "metadata": {},
   "outputs": [],
   "source": [
    "# unfold paramaters\n",
    "X = paramsFinal[:num_movies*num_features].reshape(num_movies,num_features)\n",
    "Theta = paramsFinal[num_movies*num_features:].reshape(num_users,num_features)\n",
    "# Predict rating\n",
    "p = X @ Theta.T\n",
    "my_predictions = p[:,0][:,np.newaxis] + Ymean\n",
    "import pandas as pd\n",
    "df = pd.DataFrame(np.hstack((my_predictions,np.array(movieList)[:,np.newaxis])))\n",
    "df.sort_values(by=[0],ascending=False,inplace=True)\n",
    "df.reset_index(drop=True,inplace=True)\n",
    "print(\"Top recommendations for you:\\n\")\n",
    "for i in range(10):\n",
    "    print(\"Predicting rating\",round(float(df[0][i]),1),\" for index\",df[1][i])"
   ]
  },
  {
   "cell_type": "code",
   "execution_count": null,
   "id": "763e7300",
   "metadata": {},
   "outputs": [],
   "source": []
  }
 ],
 "metadata": {
  "kernelspec": {
   "display_name": "Python 3 (ipykernel)",
   "language": "python",
   "name": "python3"
  },
  "language_info": {
   "codemirror_mode": {
    "name": "ipython",
    "version": 3
   },
   "file_extension": ".py",
   "mimetype": "text/x-python",
   "name": "python",
   "nbconvert_exporter": "python",
   "pygments_lexer": "ipython3",
   "version": "3.10.9"
  }
 },
 "nbformat": 4,
 "nbformat_minor": 5
}
